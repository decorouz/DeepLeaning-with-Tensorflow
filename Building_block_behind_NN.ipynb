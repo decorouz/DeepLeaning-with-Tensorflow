{
  "cells": [
    {
      "cell_type": "markdown",
      "metadata": {
        "id": "OHkIrSJPCJeN"
      },
      "source": [
        "# Deep Learning with Python Personal Notebook.\n",
        "\n",
        "## What is deep learning?\n",
        "\n",
        "**Deep learning is a mathematical framework for learning representations from data. A multistage way to learn data representation**\n",
        "\n",
        "Learning representation from Data: To do machine learning we need three things: \n",
        "- Inputs.\n",
        "- example of the expected results and \n",
        "- a way to measure if the algorithm is doing well.\n",
        "\n",
        "Deep learning is a specific subfield of machine learning: a new take on learning *representations* from data that puts an emphasis on learning successive layers of increasingly meaningful *representations.*\n",
        "\n",
        "**What is representation?** At its core, its a different way to look at data-- to represent or encode data. For instance, an image can be represented or encoded in the RBG format or HSV format. These are two representation of the same data.\n",
        "\n",
        "Machine-learning models are all about finding appropriate representations\n",
        "for their input data—transformations of the data that make it more amenable\n",
        "to the task at hand, such as a classification task..\n",
        "\n",
        "\n",
        "The specification of what a layer does to its input data is stored the layers **weight**, which are a bunch of numbers. \"The transformation implemented by its layer is *parametized* by its weight.\n",
        "\n",
        "**Loss Function**:How the network will be able to measure its performance on\n",
        "the training data, and thus how it will be able to steer itself in the right direction.\n",
        "\n",
        "**Optimizer**:The mechanism through which the network will update itself\n",
        "based on the data it sees and its loss function.\n",
        "\n",
        "**Class**: A category of a classification problem. eg, Sunny, rainy, snowy day of the week in one city-- Lagos\n",
        "\n",
        "**Samples**: Data points\n",
        "\n",
        "**Label**: A class associated with a specific sample. Allows us to differentiate our data. eg. city. Lagos.\n",
        "\n",
        ">Example instance. Weather prediction. Class: Sunny, Rainy. Label: Sunny or rain in a Lagos.\n",
        "\n",
        "**Layer**: The core building block of a neural network. Layer extract representation out of the data fed to them.\n",
        "\n",
        "\n",
        "\n",
        "\n",
        "\n",
        "\n"
      ]
    },
    {
      "cell_type": "markdown",
      "metadata": {
        "id": "Mo8b9KKeLY89"
      },
      "source": [
        "## Data Representation of Neural Networks\n",
        "\n",
        "**Tensors**: A container of data.\n",
        "\n",
        "**Scalars** (0D tensors): A tensor that contains only one number\n",
        "\n",
        "**ndim**: Display the number of axes of Numpy tensor.\n",
        "\n",
        "```\n",
        "import numpy as np\n",
        "x = np.array(20)\n",
        ">>> x\n",
        "array(12)\n",
        ">>> x.ndim\n",
        "0\n",
        "```\n",
        "**Vectors**: An array of numbers is called a vector. *1D tensor*.\n",
        "```\n",
        ">>> x = np.array([12, 3, 6, 14])\n",
        ">>> x\n",
        "array([12, 3, 6, 14])\n",
        ">>> x.ndim\n",
        "1\n",
        "```\n",
        "Where x is a *1D tensor* and *4 dimensional 4D vector*.\n",
        "\n",
        "**Matrices:** An array of vectors or 2D tensor. A matrix has two axes.\n",
        "```\n",
        ">>> x = np.array([[5, 78, 2, 34, 0],\n",
        "[6, 79, 3, 35, 1],\n",
        "[7, 80, 4, 36, 2]])\n",
        ">>> x.ndim\n",
        "2\n",
        "```\n",
        "**3D tensors and higher-dimensional tensors**: If you pack matrix or an array of vectors or 2D tensor into an array.\n",
        "```\n",
        ">>> x = np.array([[[5, 78, 2, 34, 0],\n",
        "                    [6, 79, 3, 35, 1],\n",
        "                    [7, 80, 4, 36, 2]],\n",
        "\n",
        "                    [[5, 78, 2, 34, 0],\n",
        "                    [6, 79, 3, 35, 1],\n",
        "                    [7, 80, 4, 36, 2]],\n",
        "\n",
        "                    [[5, 78, 2, 34, 0],\n",
        "                    [6, 79, 3, 35, 1],\n",
        "                    [7, 80, 4, 36, 2]]])\n",
        ">>> x.ndim\n",
        "3\n",
        "```\n",
        "\n",
        "**Key attributes**: A tensor is defined by three key attributes\n",
        "\n",
        "\n",
        "*   *Number of axes*:\n",
        "*   *Shape:* This is a tuple of number that describes how many dimensions the tensor has along each axis. For instance `x` has shape `(3,3,5)`. A vector has a shape with a single number.\n",
        "*   Datatype \n",
        "\n"
      ]
    },
    {
      "cell_type": "markdown",
      "metadata": {
        "id": "Fvsv52elT-W7"
      },
      "source": [
        "##  Manipulating Tensor in Numpy\n",
        "```\n",
        ">>> my_slice = sample_images[10:100]\n",
        ">>> print(my_slice.shape)\n",
        "(90, 28, 28)\n",
        "```\n",
        "\n",
        "It’s equivalent to this more detailed notation, which specifies a `start index` and `stop index` for the slice along each tensor axis. Note that `:` is equivalent to selecting the entire axis:\n",
        "```\n",
        ">>> my_slice = train_images[10:100, :, :]\n",
        ">>> my_slice.shape\n",
        "(90, 28, 28)\n",
        ">>> my_slice = train_images[10:100, 0:28, 0:28]\n",
        ">>> my_slice.shape\n",
        "(90, 28, 28)\n",
        "```\n",
        "In general, you may select between any two indices along each tensor axis. For\n",
        "instance, in order to select `14 × 14 `pixels in the bottom-right corner of all images, you\n",
        "do this:\n",
        "```\n",
        "my_slice = train_images[:, 14:, 14:]\n",
        "```"
      ]
    },
    {
      "cell_type": "markdown",
      "metadata": {
        "id": "sf0KrkpBVQKC"
      },
      "source": [
        "## The notion of data batches\n",
        "\n",
        "Deep-learning models don’t process an entire dataset at once; rather,\n",
        "they break the data into small batches. Concretely, here’s one batch of our MNIST digits, with batch size of 128:\n",
        "```\n",
        "batch = train_images[:128]\n",
        "```\n",
        "And here’s the next batch:\n",
        "```\n",
        "batch = train_images[128:256]\n",
        "```\n",
        "The nth batch\n",
        "```\n",
        "batch_n = train_images[128 * n:128 * (n + 1)]\n",
        "```"
      ]
    },
    {
      "cell_type": "markdown",
      "metadata": {
        "id": "y5cwupE8WRNk"
      },
      "source": [
        "## Real-world examples of data tensors\n",
        "\n",
        "* Vector data—2D tensors of shape `(samples, features)`\n",
        "* Timeseries data or sequence data—3D tensors of shape `(samples, timesteps,\n",
        "features)`\n",
        "* Images—4D tensors of shape `(samples, height, width, channels)` or `(samples,\n",
        "channels, height, width)`\n",
        "* Video—5D tensors of shape `(samples, frames, height, width, channels)` or\n",
        "`(samples, frames, channels, height, width)`"
      ]
    },
    {
      "cell_type": "markdown",
      "metadata": {
        "id": "K0CWVCCMXzvu"
      },
      "source": [
        "## Vector of data\n",
        "\n",
        "An actual dataset of farmers, where we consider each farmer's age, farm size,\n",
        "and income. Each farmer can be characterized as a vector of 3 values, and thus\n",
        "an entire dataset of 100,000 farmers can be stored in a 2D tensor of shape\n",
        "(100000, 3)."
      ]
    },
    {
      "cell_type": "code",
      "execution_count": null,
      "metadata": {
        "id": "MzjDm3nZZP2A",
        "outputId": "11c7fa7f-7fea-4af3-f6a5-d8b778efea41"
      },
      "outputs": [
        {
          "data": {
            "text/plain": [
              "array([[[[0., 0., 0., ..., 0., 0., 0.],\n",
              "         [0., 0., 0., ..., 0., 0., 0.],\n",
              "         [0., 0., 0., ..., 0., 0., 0.],\n",
              "         ...,\n",
              "         [0., 0., 0., ..., 0., 0., 0.],\n",
              "         [0., 0., 0., ..., 0., 0., 0.],\n",
              "         [0., 0., 0., ..., 0., 0., 0.]],\n",
              "\n",
              "        [[0., 0., 0., ..., 0., 0., 0.],\n",
              "         [0., 0., 0., ..., 0., 0., 0.],\n",
              "         [0., 0., 0., ..., 0., 0., 0.],\n",
              "         ...,\n",
              "         [0., 0., 0., ..., 0., 0., 0.],\n",
              "         [0., 0., 0., ..., 0., 0., 0.],\n",
              "         [0., 0., 0., ..., 0., 0., 0.]],\n",
              "\n",
              "        [[0., 0., 0., ..., 0., 0., 0.],\n",
              "         [0., 0., 0., ..., 0., 0., 0.],\n",
              "         [0., 0., 0., ..., 0., 0., 0.],\n",
              "         ...,\n",
              "         [0., 0., 0., ..., 0., 0., 0.],\n",
              "         [0., 0., 0., ..., 0., 0., 0.],\n",
              "         [0., 0., 0., ..., 0., 0., 0.]]],\n",
              "\n",
              "\n",
              "       [[[0., 0., 0., ..., 0., 0., 0.],\n",
              "         [0., 0., 0., ..., 0., 0., 0.],\n",
              "         [0., 0., 0., ..., 0., 0., 0.],\n",
              "         ...,\n",
              "         [0., 0., 0., ..., 0., 0., 0.],\n",
              "         [0., 0., 0., ..., 0., 0., 0.],\n",
              "         [0., 0., 0., ..., 0., 0., 0.]],\n",
              "\n",
              "        [[0., 0., 0., ..., 0., 0., 0.],\n",
              "         [0., 0., 0., ..., 0., 0., 0.],\n",
              "         [0., 0., 0., ..., 0., 0., 0.],\n",
              "         ...,\n",
              "         [0., 0., 0., ..., 0., 0., 0.],\n",
              "         [0., 0., 0., ..., 0., 0., 0.],\n",
              "         [0., 0., 0., ..., 0., 0., 0.]],\n",
              "\n",
              "        [[0., 0., 0., ..., 0., 0., 0.],\n",
              "         [0., 0., 0., ..., 0., 0., 0.],\n",
              "         [0., 0., 0., ..., 0., 0., 0.],\n",
              "         ...,\n",
              "         [0., 0., 0., ..., 0., 0., 0.],\n",
              "         [0., 0., 0., ..., 0., 0., 0.],\n",
              "         [0., 0., 0., ..., 0., 0., 0.]]],\n",
              "\n",
              "\n",
              "       [[[0., 0., 0., ..., 0., 0., 0.],\n",
              "         [0., 0., 0., ..., 0., 0., 0.],\n",
              "         [0., 0., 0., ..., 0., 0., 0.],\n",
              "         ...,\n",
              "         [0., 0., 0., ..., 0., 0., 0.],\n",
              "         [0., 0., 0., ..., 0., 0., 0.],\n",
              "         [0., 0., 0., ..., 0., 0., 0.]],\n",
              "\n",
              "        [[0., 0., 0., ..., 0., 0., 0.],\n",
              "         [0., 0., 0., ..., 0., 0., 0.],\n",
              "         [0., 0., 0., ..., 0., 0., 0.],\n",
              "         ...,\n",
              "         [0., 0., 0., ..., 0., 0., 0.],\n",
              "         [0., 0., 0., ..., 0., 0., 0.],\n",
              "         [0., 0., 0., ..., 0., 0., 0.]],\n",
              "\n",
              "        [[0., 0., 0., ..., 0., 0., 0.],\n",
              "         [0., 0., 0., ..., 0., 0., 0.],\n",
              "         [0., 0., 0., ..., 0., 0., 0.],\n",
              "         ...,\n",
              "         [0., 0., 0., ..., 0., 0., 0.],\n",
              "         [0., 0., 0., ..., 0., 0., 0.],\n",
              "         [0., 0., 0., ..., 0., 0., 0.]]],\n",
              "\n",
              "\n",
              "       ...,\n",
              "\n",
              "\n",
              "       [[[0., 0., 0., ..., 0., 0., 0.],\n",
              "         [0., 0., 0., ..., 0., 0., 0.],\n",
              "         [0., 0., 0., ..., 0., 0., 0.],\n",
              "         ...,\n",
              "         [0., 0., 0., ..., 0., 0., 0.],\n",
              "         [0., 0., 0., ..., 0., 0., 0.],\n",
              "         [0., 0., 0., ..., 0., 0., 0.]],\n",
              "\n",
              "        [[0., 0., 0., ..., 0., 0., 0.],\n",
              "         [0., 0., 0., ..., 0., 0., 0.],\n",
              "         [0., 0., 0., ..., 0., 0., 0.],\n",
              "         ...,\n",
              "         [0., 0., 0., ..., 0., 0., 0.],\n",
              "         [0., 0., 0., ..., 0., 0., 0.],\n",
              "         [0., 0., 0., ..., 0., 0., 0.]],\n",
              "\n",
              "        [[0., 0., 0., ..., 0., 0., 0.],\n",
              "         [0., 0., 0., ..., 0., 0., 0.],\n",
              "         [0., 0., 0., ..., 0., 0., 0.],\n",
              "         ...,\n",
              "         [0., 0., 0., ..., 0., 0., 0.],\n",
              "         [0., 0., 0., ..., 0., 0., 0.],\n",
              "         [0., 0., 0., ..., 0., 0., 0.]]],\n",
              "\n",
              "\n",
              "       [[[0., 0., 0., ..., 0., 0., 0.],\n",
              "         [0., 0., 0., ..., 0., 0., 0.],\n",
              "         [0., 0., 0., ..., 0., 0., 0.],\n",
              "         ...,\n",
              "         [0., 0., 0., ..., 0., 0., 0.],\n",
              "         [0., 0., 0., ..., 0., 0., 0.],\n",
              "         [0., 0., 0., ..., 0., 0., 0.]],\n",
              "\n",
              "        [[0., 0., 0., ..., 0., 0., 0.],\n",
              "         [0., 0., 0., ..., 0., 0., 0.],\n",
              "         [0., 0., 0., ..., 0., 0., 0.],\n",
              "         ...,\n",
              "         [0., 0., 0., ..., 0., 0., 0.],\n",
              "         [0., 0., 0., ..., 0., 0., 0.],\n",
              "         [0., 0., 0., ..., 0., 0., 0.]],\n",
              "\n",
              "        [[0., 0., 0., ..., 0., 0., 0.],\n",
              "         [0., 0., 0., ..., 0., 0., 0.],\n",
              "         [0., 0., 0., ..., 0., 0., 0.],\n",
              "         ...,\n",
              "         [0., 0., 0., ..., 0., 0., 0.],\n",
              "         [0., 0., 0., ..., 0., 0., 0.],\n",
              "         [0., 0., 0., ..., 0., 0., 0.]]],\n",
              "\n",
              "\n",
              "       [[[0., 0., 0., ..., 0., 0., 0.],\n",
              "         [0., 0., 0., ..., 0., 0., 0.],\n",
              "         [0., 0., 0., ..., 0., 0., 0.],\n",
              "         ...,\n",
              "         [0., 0., 0., ..., 0., 0., 0.],\n",
              "         [0., 0., 0., ..., 0., 0., 0.],\n",
              "         [0., 0., 0., ..., 0., 0., 0.]],\n",
              "\n",
              "        [[0., 0., 0., ..., 0., 0., 0.],\n",
              "         [0., 0., 0., ..., 0., 0., 0.],\n",
              "         [0., 0., 0., ..., 0., 0., 0.],\n",
              "         ...,\n",
              "         [0., 0., 0., ..., 0., 0., 0.],\n",
              "         [0., 0., 0., ..., 0., 0., 0.],\n",
              "         [0., 0., 0., ..., 0., 0., 0.]],\n",
              "\n",
              "        [[0., 0., 0., ..., 0., 0., 0.],\n",
              "         [0., 0., 0., ..., 0., 0., 0.],\n",
              "         [0., 0., 0., ..., 0., 0., 0.],\n",
              "         ...,\n",
              "         [0., 0., 0., ..., 0., 0., 0.],\n",
              "         [0., 0., 0., ..., 0., 0., 0.],\n",
              "         [0., 0., 0., ..., 0., 0., 0.]]]])"
            ]
          },
          "execution_count": 1,
          "metadata": {},
          "output_type": "execute_result"
        }
      ],
      "source": [
        "import numpy as np\n",
        "\n",
        "np.zeros((64,3,32,10))"
      ]
    },
    {
      "cell_type": "markdown",
      "metadata": {
        "id": "tXtsruYVaN1K"
      },
      "source": [
        "## The gears of neural networks: tensor operations\n",
        "\n",
        "### Element-wise Operation: \n",
        "Define a naive implementation of `relu` function in python\n",
        "```\n",
        "output = relu(dot(W * input) + b)\n",
        "relu = max(x,0)\n",
        "```\n"
      ]
    },
    {
      "cell_type": "code",
      "execution_count": null,
      "metadata": {
        "id": "sEmjWXeFcVAo"
      },
      "outputs": [],
      "source": [
        "def naive_relu(x):\n",
        "  assert len(x.shape) == 2    # 2D tensor\n",
        "\n",
        "  x = x.copy()                # avoid overwriting the input tensor\n",
        "  for i in range(x.shape[0]):\n",
        "    for j in range(x.shape[1]):\n",
        "      x[i,j] = max(x[i,j],0)\n",
        "\n",
        "  return x"
      ]
    },
    {
      "cell_type": "code",
      "execution_count": null,
      "metadata": {
        "id": "n7-v0FxVeKZV"
      },
      "outputs": [],
      "source": [
        "def naive_add(x,y):\n",
        "  assert len(x.shape) == 2\n",
        "  assert x.shape == y.shape\n",
        "\n",
        "  x = x.copy()\n",
        "  for i in range(x.shape[0]):\n",
        "    for j in range(x.shape[1]):\n",
        "      x[i,j] += y[i,j]\n",
        "      \n",
        "  return x"
      ]
    },
    {
      "cell_type": "markdown",
      "metadata": {
        "id": "Gz3hOtJViMaP"
      },
      "source": [
        "### Broadcasting"
      ]
    },
    {
      "cell_type": "code",
      "execution_count": null,
      "metadata": {
        "id": "OLCbVJhHfHxr"
      },
      "outputs": [],
      "source": [
        "def naive_add_matrix_vector(x,y):\n",
        "  assert len(x.shape) == 2        # 2D tensor\n",
        "  assert len(y.shape) == 1        # vector\n",
        "  assert x.shape[1] == y.shape[0] \n",
        "\n",
        "  x = x.copy()\n",
        "  for i in range(x.shape[0]):\n",
        "    for j in range(x.shape[1]):\n",
        "      x[i,j] += y[j]\n",
        "  return x\n",
        "\n",
        "# Numpy implementation of broadcasting\n",
        "x = np.random.random((64, 3, 32, 10))\n",
        "y = np.random.random((32, 10))\n",
        "z = np.maximum(x, y)"
      ]
    },
    {
      "cell_type": "markdown",
      "metadata": {
        "id": "ys_khvbriH2N"
      },
      "source": [
        "### Tensor dot\n",
        "The dot operation, also called a tensor product (not to be confused with an elementwise product) is the most common, most useful tensor operation. Contrary to element-wise operations, it combines entries in the input tensors.\n",
        "\n",
        "```\n",
        "import numpy as np\n",
        "z = np.dot(x, y)\n",
        "```\n"
      ]
    },
    {
      "cell_type": "code",
      "execution_count": null,
      "metadata": {
        "id": "U2ciVtbwihBL"
      },
      "outputs": [],
      "source": [
        "def naive_vector_dot(x,y):\n",
        "  '''\n",
        "  dot product between two vectors\n",
        "  '''\n",
        "  assert len(x.shape) == 1\n",
        "  assert len(y.shape) == 1\n",
        "  assert x.shape[0] == y.shape[0]\n",
        "\n",
        "  z = 0.\n",
        "  for i in range(x.shape[0]):\n",
        "    z += x[i] * y[i]\n",
        "  return z\n",
        "\n",
        "\n",
        "def naive_matrix_vector_dot(x,y):\n",
        "  assert len(x.shape) == 2\n",
        "  assert len(y.shape) == 1\n",
        "  assert x.shape[1] == y.shape[0]\n",
        "\n",
        "  z = np.zero(x.shape[0])\n",
        "\n",
        "  for i in range(x.shape[0]):\n",
        "    for j in range(x.shape[1]):\n",
        "      z[i] += x[i,j] * y[i]\n",
        "  \n",
        "  return z"
      ]
    },
    {
      "cell_type": "markdown",
      "metadata": {
        "id": "OQyypA7m-4cU"
      },
      "source": [
        "### Tensor Reshaping\n",
        "Reshaping a tensor means rearranging its rows and columns to match a target shape.\n",
        "Naturally, the reshaped tensor has the same total number of coefficients as the initial\n",
        "tensor. Reshaping is best understood via simple examples:\n"
      ]
    },
    {
      "cell_type": "code",
      "execution_count": null,
      "metadata": {
        "id": "C5aP1Pfl-4cV",
        "outputId": "8ec0c23a-5261-48c4-9517-66bb6663afc1"
      },
      "outputs": [
        {
          "data": {
            "text/plain": [
              "array([[0., 1.],\n",
              "       [2., 3.],\n",
              "       [4., 5.]])"
            ]
          },
          "execution_count": 31,
          "metadata": {},
          "output_type": "execute_result"
        }
      ],
      "source": [
        "x = np.array([[0., 1.],\n",
        "              [2., 3.],\n",
        "              [4., 5.]])\n",
        "\n",
        "x.reshape(6,1)\n",
        "x.reshape(2,3)\n",
        "\n",
        "x"
      ]
    },
    {
      "cell_type": "code",
      "execution_count": null,
      "metadata": {
        "id": "mqBfubBG-4cV",
        "outputId": "b3c7cbfd-a997-4abd-949b-cf513c02c1ef"
      },
      "outputs": [
        {
          "data": {
            "text/plain": [
              "array([1., 3., 5.])"
            ]
          },
          "execution_count": 32,
          "metadata": {},
          "output_type": "execute_result"
        }
      ],
      "source": [
        "x[:,1]"
      ]
    },
    {
      "cell_type": "code",
      "execution_count": null,
      "metadata": {
        "id": "D4yhmZaO-4cW",
        "outputId": "b5fd19c8-c285-4b73-bdfb-258974d2dd6c"
      },
      "outputs": [
        {
          "data": {
            "text/plain": [
              "array([2., 3.])"
            ]
          },
          "execution_count": 18,
          "metadata": {},
          "output_type": "execute_result"
        }
      ],
      "source": [
        "x[1,:]"
      ]
    },
    {
      "cell_type": "code",
      "execution_count": null,
      "metadata": {
        "id": "zLHyWckB-4cW",
        "outputId": "154ab9a1-d720-41f7-ee04-140e3161f65d"
      },
      "outputs": [
        {
          "data": {
            "text/plain": [
              "array([[0., 2., 4.],\n",
              "       [1., 3., 5.]])"
            ]
          },
          "execution_count": 36,
          "metadata": {},
          "output_type": "execute_result"
        }
      ],
      "source": [
        "x =np.transpose(x)\n",
        "x"
      ]
    },
    {
      "cell_type": "code",
      "execution_count": null,
      "metadata": {
        "id": "tfKgJoVD-4cW",
        "outputId": "69da9ff3-34ac-499d-d818-1f657d16475f"
      },
      "outputs": [
        {
          "data": {
            "text/plain": [
              "array([2., 3.])"
            ]
          },
          "execution_count": 37,
          "metadata": {},
          "output_type": "execute_result"
        }
      ],
      "source": [
        "x[:,1]"
      ]
    },
    {
      "cell_type": "code",
      "execution_count": null,
      "metadata": {
        "id": "VzarEnG6-4cX",
        "outputId": "2acfa927-6d28-463b-bef4-f7d561fd91b7"
      },
      "outputs": [
        {
          "data": {
            "text/plain": [
              "array([1., 3., 5.])"
            ]
          },
          "execution_count": 23,
          "metadata": {},
          "output_type": "execute_result"
        }
      ],
      "source": [
        "x[1,:]"
      ]
    },
    {
      "cell_type": "code",
      "execution_count": null,
      "metadata": {
        "id": "0VifHQNF-4cX"
      },
      "outputs": [],
      "source": []
    }
  ],
  "metadata": {
    "colab": {
      "provenance": []
    },
    "kernelspec": {
      "display_name": "Python 3 (ipykernel)",
      "language": "python",
      "name": "python3"
    },
    "language_info": {
      "codemirror_mode": {
        "name": "ipython",
        "version": 3
      },
      "file_extension": ".py",
      "mimetype": "text/x-python",
      "name": "python",
      "nbconvert_exporter": "python",
      "pygments_lexer": "ipython3",
      "version": "3.9.15"
    }
  },
  "nbformat": 4,
  "nbformat_minor": 0
}