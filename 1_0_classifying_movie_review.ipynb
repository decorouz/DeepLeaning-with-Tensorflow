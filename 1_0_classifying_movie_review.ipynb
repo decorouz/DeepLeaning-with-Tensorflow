{
  "cells": [
    {
      "cell_type": "markdown",
      "metadata": {
        "id": "view-in-github",
        "colab_type": "text"
      },
      "source": [
        "<a href=\"https://colab.research.google.com/github/decorouz/DeepLeaning-with-Tensorflow/blob/main/1_0_classifying_movie_review.ipynb\" target=\"_parent\"><img src=\"https://colab.research.google.com/assets/colab-badge.svg\" alt=\"Open In Colab\"/></a>"
      ]
    },
    {
      "cell_type": "markdown",
      "metadata": {
        "id": "42b88ba5"
      },
      "source": [
        "# 1. Classifying movie reviews: a binary classification problem"
      ],
      "id": "42b88ba5"
    },
    {
      "cell_type": "markdown",
      "metadata": {
        "id": "0f33007a"
      },
      "source": [
        "## The IMDB dataset\n",
        "You’ll work with the IMDB dataset: a set of 50,000 highly polarized reviews from the\n",
        "Internet Movie Database. They’re split into 25,000 reviews for training and 25,000\n",
        "reviews for testing, each set consisting of 50% negative and 50% positive reviews."
      ],
      "id": "0f33007a"
    },
    {
      "cell_type": "markdown",
      "metadata": {
        "id": "6459d93e"
      },
      "source": [
        "### 1.1 Loading the IMDB dataset"
      ],
      "id": "6459d93e"
    },
    {
      "cell_type": "code",
      "execution_count": 1,
      "metadata": {
        "id": "2efae0d8",
        "colab": {
          "base_uri": "https://localhost:8080/"
        },
        "outputId": "171d839d-9d74-4bc7-bf75-87f05304c2d5"
      },
      "outputs": [
        {
          "output_type": "stream",
          "name": "stdout",
          "text": [
            "Downloading data from https://storage.googleapis.com/tensorflow/tf-keras-datasets/imdb.npz\n",
            "17464789/17464789 [==============================] - 1s 0us/step\n"
          ]
        }
      ],
      "source": [
        "from keras.datasets import imdb\n",
        "(train_data, train_labels), (test_data, test_labels) = imdb.load_data(num_words=10000)"
      ],
      "id": "2efae0d8"
    },
    {
      "cell_type": "markdown",
      "metadata": {
        "id": "be036539"
      },
      "source": [
        "The `num_words` indicates you will only keep the 10,000 most frequently occuring words. The variables `train_data` and `test_data` are list of reviews; each review is a list word indices (encoding a sequence of word). `train_labels` and `test_labels` are lists of 0s and 1s, where 0 stands for negative and 1 stands for positive:"
      ],
      "id": "be036539"
    },
    {
      "cell_type": "code",
      "execution_count": 2,
      "metadata": {
        "colab": {
          "base_uri": "https://localhost:8080/"
        },
        "id": "b1c89322",
        "outputId": "a62df095-f67e-4bd1-b109-63a7d7344ce7"
      },
      "outputs": [
        {
          "output_type": "stream",
          "name": "stdout",
          "text": [
            "218\n"
          ]
        },
        {
          "output_type": "execute_result",
          "data": {
            "text/plain": [
              "1"
            ]
          },
          "metadata": {},
          "execution_count": 2
        }
      ],
      "source": [
        "# Checkout the nature of the data.\n",
        "print(len(train_data[0]))\n",
        "train_labels[0]"
      ],
      "id": "b1c89322"
    },
    {
      "cell_type": "markdown",
      "metadata": {
        "id": "4161066d"
      },
      "source": [
        "Decoding one of the reviews back to english"
      ],
      "id": "4161066d"
    },
    {
      "cell_type": "code",
      "execution_count": 3,
      "metadata": {
        "colab": {
          "base_uri": "https://localhost:8080/",
          "height": 180
        },
        "id": "766d16e2",
        "outputId": "e04ef07e-f01c-4b5f-a9f2-2fef5cb31826"
      },
      "outputs": [
        {
          "output_type": "stream",
          "name": "stdout",
          "text": [
            "Downloading data from https://storage.googleapis.com/tensorflow/tf-keras-datasets/imdb_word_index.json\n",
            "1641221/1641221 [==============================] - 0s 0us/step\n"
          ]
        },
        {
          "output_type": "execute_result",
          "data": {
            "text/plain": [
              "\"? as a big fan of the original film it's hard to watch this show the ? set ? and ? ? sets rob any style from this remake the mood is never there instead it has the look and feel of so many television movies of the seventies crenna is not a bad choice as walter ? but his snappy wardrobe and ? apartment don't fit the mood of the original or make him an interesting character he does his best to make it work but samantha ? is a really bad choice the english accent and california looks can't hold a candle to barbara ? ? voice and sex appeal lee j ? tries ? to fashion barton ? but even his performance is just gruff without style br br it feels like the tv movie it was and again reminds me of what a remarkable film the original still is\""
            ],
            "application/vnd.google.colaboratory.intrinsic+json": {
              "type": "string"
            }
          },
          "metadata": {},
          "execution_count": 3
        }
      ],
      "source": [
        "word_index = imdb.get_word_index()\n",
        "\n",
        "reversed_word_index = dict([(value, key) for key, value in word_index.items()])\n",
        "decoded_review = \" \".join([reversed_word_index.get(i-3, \"?\") for i in train_data[24999]])\n",
        "\n",
        "decoded_review"
      ],
      "id": "766d16e2"
    },
    {
      "cell_type": "markdown",
      "metadata": {
        "id": "d84737f9"
      },
      "source": [
        "#### 1.2 Preparing the dataset\n",
        "You can't feed a list into a model. You have to convert the list into tensors. There are two way to go about the conversion.\n",
        "* Padding your lists so that they have the same length, turn them into an integer tensor of shape (samples, word_indices).\n",
        "* One-hot encod your list to turn them into vectors of 0s, and 1's. "
      ],
      "id": "d84737f9"
    },
    {
      "cell_type": "code",
      "execution_count": 4,
      "metadata": {
        "id": "4bda931e"
      },
      "outputs": [],
      "source": [
        "import numpy as np\n",
        "# Encoding the integer sequences into a binary matrix\n",
        "def vectorize_sequences(sequences, dimension=10000):\n",
        "    results = np.zeros((len(sequences), dimension)) \n",
        "    \n",
        "    for i, sequence in enumerate(sequences):\n",
        "        results[i, sequence] = 1.\n",
        "    return results\n",
        "\n",
        "x_train = vectorize_sequences(train_data)\n",
        "x_test = vectorize_sequences(test_data)"
      ],
      "id": "4bda931e"
    },
    {
      "cell_type": "code",
      "execution_count": 5,
      "metadata": {
        "colab": {
          "base_uri": "https://localhost:8080/"
        },
        "id": "9c1ee547",
        "outputId": "cf8c9db5-4cf2-482c-ecc4-46800cbf2ed7"
      },
      "outputs": [
        {
          "output_type": "execute_result",
          "data": {
            "text/plain": [
              "(25000, 10000)"
            ]
          },
          "metadata": {},
          "execution_count": 5
        }
      ],
      "source": [
        "x_test.shape"
      ],
      "id": "9c1ee547"
    },
    {
      "cell_type": "code",
      "execution_count": 6,
      "metadata": {
        "id": "82fe7e09"
      },
      "outputs": [],
      "source": [
        "# Vectorize the labels\n",
        "y_train = np.asarray(train_labels).astype(\"float32\")\n",
        "y_test = np.asarray(test_labels).astype(\"float32\")"
      ],
      "id": "82fe7e09"
    },
    {
      "cell_type": "markdown",
      "metadata": {
        "id": "3aa88e11"
      },
      "source": [
        "### 1.3 Build the Network\n",
        "\n",
        "Having 16 hidden unit means the weight `W` has a shape of `(input_dimension, 16)`."
      ],
      "id": "3aa88e11"
    },
    {
      "cell_type": "code",
      "execution_count": 7,
      "metadata": {
        "id": "9aff7015"
      },
      "outputs": [],
      "source": [
        "from keras import models\n",
        "from keras import layers\n",
        "\n",
        "model = models.Sequential()\n",
        "model.add(layers.Dense(16, activation=\"relu\", input_shape=(10000,)))\n",
        "model.add(layers.Dense(16, activation=\"relu\"))\n",
        "model.add(layers.Dense(1, activation=\"sigmoid\"))"
      ],
      "id": "9aff7015"
    },
    {
      "cell_type": "markdown",
      "metadata": {
        "id": "01577d01"
      },
      "source": [
        "### 1.4 Compiling the Model"
      ],
      "id": "01577d01"
    },
    {
      "cell_type": "code",
      "execution_count": 8,
      "metadata": {
        "id": "41e8b819"
      },
      "outputs": [],
      "source": [
        "from keras import optimizers\n",
        "\n",
        "model.compile(optimizer=optimizers.RMSprop(learning_rate=0.001),\n",
        "             loss=\"binary_crossentropy\",\n",
        "             metrics =[\"accuracy\"])"
      ],
      "id": "41e8b819"
    },
    {
      "cell_type": "markdown",
      "metadata": {
        "id": "6ae9ab02"
      },
      "source": [
        "### 1.5 Setup Validation Approach:\n",
        "In order to monitor during training the accuracy of the model on data it as never seen before, create a validation set by setting aside 10,000 samples from the original training data."
      ],
      "id": "6ae9ab02"
    },
    {
      "cell_type": "code",
      "execution_count": 9,
      "metadata": {
        "id": "a47bc724"
      },
      "outputs": [],
      "source": [
        "x_val = x_train[:10000]\n",
        "partial_x_train = x_train[10000:]\n",
        "\n",
        "y_val = y_train[:10000]\n",
        "partial_y_train = y_train[10000:]"
      ],
      "id": "a47bc724"
    },
    {
      "cell_type": "markdown",
      "metadata": {
        "id": "78c321ca"
      },
      "source": [
        "### 1.6 Training the model\n",
        "You’ll now train the model for 20 epochs (20 iterations over all samples in the\n",
        "x_train and y_train tensors), in mini-batches of 512 samples. At the same time,\n",
        "you’ll monitor loss and accuracy on the 10,000 samples that you set apart. You do so by\n",
        "passing the validation data as the validation_data argument."
      ],
      "id": "78c321ca"
    },
    {
      "cell_type": "code",
      "execution_count": 10,
      "metadata": {
        "id": "157a666a"
      },
      "outputs": [],
      "source": [
        "model.compile(optimizer=\"rmsprop\",\n",
        "             loss=\"binary_crossentropy\",\n",
        "             metrics=[\"acc\"])\n",
        "\n",
        "\n",
        "history = model.fit(partial_x_train,\n",
        "                   partial_y_train,\n",
        "                   epochs=20,\n",
        "                   batch_size=512,\n",
        "                   validation_data=(x_val, y_val),\n",
        "                    verbose=0)"
      ],
      "id": "157a666a"
    },
    {
      "cell_type": "markdown",
      "metadata": {
        "id": "f01aa8e2"
      },
      "source": [
        "### 1.7 Plotting the training and validation loss\n"
      ],
      "id": "f01aa8e2"
    },
    {
      "cell_type": "code",
      "execution_count": 11,
      "metadata": {
        "id": "fff0197e",
        "colab": {
          "base_uri": "https://localhost:8080/",
          "height": 295
        },
        "outputId": "30b55def-1bc1-404c-8be2-5929ff98f2c0"
      },
      "outputs": [
        {
          "output_type": "display_data",
          "data": {
            "text/plain": [
              "<Figure size 432x288 with 1 Axes>"
            ],
            "image/png": "[encoded data removed]"
          },
          "metadata": {
            "needs_background": "light"
          }
        }
      ],
      "source": [
        "import matplotlib.pyplot as plt\n",
        "\n",
        "history_dict = history.history\n",
        "loss_values = history_dict[\"loss\"]\n",
        "val_loss_values = history_dict[\"val_loss\"]\n",
        "acc = history_dict[\"acc\"]\n",
        "\n",
        "epochs = range(1, len(acc) + 1)\n",
        "\n",
        "plt.plot(epochs, loss_values , \"bo\", label=\"Training loss\")\n",
        "plt.plot(epochs, val_loss_values, \"b\", label=\"Validation loss\")\n",
        "\n",
        "plt.title(\"Training and validation loss\")\n",
        "plt.xlabel(\"Epochs\")\n",
        "plt.ylabel(\"Loss\")\n",
        "plt.legend()\n",
        "\n",
        "plt.show()"
      ],
      "id": "fff0197e"
    },
    {
      "cell_type": "markdown",
      "metadata": {
        "id": "ffc38623"
      },
      "source": [
        "### 1.8 Plotting the training and validation accuracy"
      ],
      "id": "ffc38623"
    },
    {
      "cell_type": "code",
      "execution_count": 12,
      "metadata": {
        "id": "f416bb38",
        "colab": {
          "base_uri": "https://localhost:8080/",
          "height": 295
        },
        "outputId": "83f1cc27-b9f5-4680-865b-a01071176045"
      },
      "outputs": [
        {
          "output_type": "display_data",
          "data": {
            "text/plain": [
              "<Figure size 432x288 with 1 Axes>"
            ],
            "image/png": "[encoded data removed]"
          },
          "metadata": {
            "needs_background": "light"
          }
        }
      ],
      "source": [
        "plt.clf()\n",
        "\n",
        "acc_values = history_dict[\"acc\"]\n",
        "val_acc_values = history_dict[\"val_acc\"]\n",
        "\n",
        "plt.plot(epochs, acc_values, \"bo\", label=\"Training accuracy\")\n",
        "plt.plot(epochs, val_acc_values, \"b\", label=\"Validation accuracy\")\n",
        "\n",
        "plt.title(\"Training and validation accuracy\")\n",
        "plt.xlabel(\"Epochs\")\n",
        "plt.ylabel(\"Accuracy\")\n",
        "plt.legend()\n",
        "plt.show()"
      ],
      "id": "f416bb38"
    },
    {
      "cell_type": "markdown",
      "metadata": {
        "id": "322d5874"
      },
      "source": [
        "### 1.9 Retrain the model from scratch. \n",
        "From earlier training, it is observed that the validation accuracy and loss seems to peach at the fourth epoch. This is a case of overfitting. To prevent it, we could stop the training after three epochs."
      ],
      "id": "322d5874"
    },
    {
      "cell_type": "code",
      "execution_count": null,
      "metadata": {
        "colab": {
          "background_save": true
        },
        "id": "64dc4145",
        "outputId": "5950135e-16c4-4ef0-b0f0-0090cd9dede1"
      },
      "outputs": [
        {
          "name": "stdout",
          "output_type": "stream",
          "text": [
            "Epoch 1/4\n",
            "49/49 [==============================] - 1s 16ms/step - loss: 0.4617 - accuracy: 0.8285\n",
            "Epoch 2/4\n",
            "49/49 [==============================] - 1s 18ms/step - loss: 0.2659 - accuracy: 0.9072\n",
            "Epoch 3/4\n",
            "49/49 [==============================] - 1s 19ms/step - loss: 0.2031 - accuracy: 0.9267\n",
            "Epoch 4/4\n",
            "49/49 [==============================] - 1s 19ms/step - loss: 0.1701 - accuracy: 0.9397\n",
            "782/782 [==============================] - 5s 6ms/step - loss: 0.2988 - accuracy: 0.8810\n"
          ]
        }
      ],
      "source": [
        "model = models.Sequential()\n",
        "model.add(layers.Dense(16, activation='relu', input_shape=(10000,)))\n",
        "model.add(layers.Dense(16, activation='relu'))\n",
        "model.add(layers.Dense(1, activation='sigmoid'))\n",
        "\n",
        "\n",
        "model.compile(optimizer='rmsprop',\n",
        "              loss='binary_crossentropy',\n",
        "              metrics=['accuracy'])\n",
        "\n",
        "model.fit(x_train, y_train, epochs=4, batch_size=512)\n",
        "\n",
        "results = model.evaluate(x_test, y_test)"
      ],
      "id": "64dc4145"
    },
    {
      "cell_type": "code",
      "execution_count": null,
      "metadata": {
        "colab": {
          "background_save": true
        },
        "id": "Ls1kVyWf8C--",
        "outputId": "26b31ff2-5d95-47ad-966e-31e1058310b4"
      },
      "outputs": [
        {
          "data": {
            "text/plain": [
              "[0.2987597584724426, 0.8809999823570251]"
            ]
          },
          "execution_count": 14,
          "metadata": {},
          "output_type": "execute_result"
        }
      ],
      "source": [
        "results"
      ],
      "id": "Ls1kVyWf8C--"
    },
    {
      "cell_type": "markdown",
      "metadata": {
        "id": "f25edb0a"
      },
      "source": [
        "### 1.10 Use train model to generate prediction on data\n",
        "\n",
        "After having trained a network, you’ll want to use it in a practical setting. You can generate\n",
        "the likelihood of reviews being positive by using the predict method:"
      ],
      "id": "f25edb0a"
    },
    {
      "cell_type": "code",
      "execution_count": null,
      "metadata": {
        "colab": {
          "background_save": true
        },
        "id": "dc27d007",
        "outputId": "9013eef7-a918-44c6-a824-e17d4ac9d802"
      },
      "outputs": [
        {
          "name": "stdout",
          "output_type": "stream",
          "text": [
            "782/782 [==============================] - 2s 2ms/step\n"
          ]
        },
        {
          "data": {
            "text/plain": [
              "array([[0.17221431],\n",
              "       [0.9998141 ],\n",
              "       [0.69949293],\n",
              "       ...,\n",
              "       [0.09796176],\n",
              "       [0.0509529 ],\n",
              "       [0.53498465]], dtype=float32)"
            ]
          },
          "execution_count": 15,
          "metadata": {},
          "output_type": "execute_result"
        }
      ],
      "source": [
        "model.predict(x_test)"
      ],
      "id": "dc27d007"
    },
    {
      "cell_type": "markdown",
      "metadata": {
        "id": "45246186"
      },
      "source": [
        "### 1.11 Further experiments\n",
        "1. Try different hidden layers\n",
        "2. Use logistic regression on the same dataset\n",
        "3. Try different loss function \n",
        "4. Try using different activation function\n"
      ],
      "id": "45246186"
    },
    {
      "cell_type": "code",
      "execution_count": null,
      "metadata": {
        "id": "ad8dedcb"
      },
      "outputs": [],
      "source": [
        "from keras.callbacks import Callback\n",
        "import tensorflow as tf\n",
        "\n",
        "from keras import losses\n",
        "from keras import layers\n",
        "from keras import models\n",
        "from keras.callbacks import EarlyStopping\n",
        "\n",
        "model = models.Sequential()\n",
        "model.add(layers.Dense(32, activation=\"relu\", input_shape=(10000,)))\n",
        "model.add(layers.Dense(32, activation=\"relu\"))\n",
        "model.add(layers.Dense(1, activation=\"sigmoid\"))\n",
        "\n",
        "\n",
        "model.compile(optimizer=optimizers.RMSprop(learning_rate=0.001),\n",
        "              loss = \"binary_crossentropy\",\n",
        "              metrics=[\"accuracy\"])\n",
        "\n",
        "#callback when validation loss continue to increase\n",
        "es = EarlyStopping(monitor=\"loss\", mode=\"min\", patience=3)\n",
        "\n",
        "history = model.fit(x_train,\n",
        "                    y_train,\n",
        "                    batch_size=512,\n",
        "                    epochs=4,\n",
        "                    callbacks=[es])\n",
        "\n",
        "\n",
        "results = model.evaluate(x_test, y_test)"
      ],
      "id": "ad8dedcb"
    },
    {
      "cell_type": "code",
      "execution_count": null,
      "metadata": {
        "id": "1oU_uMwk5Y_G"
      },
      "outputs": [],
      "source": [
        "results"
      ],
      "id": "1oU_uMwk5Y_G"
    },
    {
      "cell_type": "markdown",
      "source": [
        "### 1.2 Addressing Overfitting and Underfitting\n"
      ],
      "metadata": {
        "id": "_dcmaOsxz6wz"
      },
      "id": "_dcmaOsxz6wz"
    },
    {
      "cell_type": "markdown",
      "source": [
        "#### Effect of model capacity on validation loss: trying a bigger model\n",
        "\n",
        "Let's try to replace the original network with a small network with lower capacity."
      ],
      "metadata": {
        "id": "hPCYfNWBt35b"
      },
      "id": "hPCYfNWBt35b"
    },
    {
      "cell_type": "code",
      "source": [
        "model_s = models.Sequential()\n",
        "model_s.add(layers.Dense(4, activation=\"relu\", input_shape=(10000,)))\n",
        "model_s.add(layers.Dense(4, activation=\"relu\"))\n",
        "model_s.add(layers.Dense(1, activation=\"sigmoid\"))\n",
        "\n",
        "model_s.compile(optimizer=\"rmsprop\",\n",
        "              loss=\"binary_crossentropy\",\n",
        "              metrics=[\"accuracy\"])\n",
        "\n",
        "\n",
        "history_s = model_s.fit(partial_x_train,\n",
        "                   partial_y_train,\n",
        "                   epochs=20,\n",
        "                   batch_size=512,\n",
        "                   validation_data=(x_val, y_val),\n",
        "                   verbose=0)\n"
      ],
      "metadata": {
        "id": "4RDYAqUuhWU8"
      },
      "id": "4RDYAqUuhWU8",
      "execution_count": null,
      "outputs": []
    },
    {
      "cell_type": "code",
      "source": [
        "\n",
        "import matplotlib.pyplot as plt\n",
        "\n",
        "history_s_dict = history_s.history\n",
        "val_loss_s = history_s_dict[\"val_loss\"]\n",
        "val_loss_o = history_dict[\"val_loss\"]\n",
        "\n",
        "epochs = range(1, len(val_loss_o) + 1)\n",
        "\n",
        "plt.plot(epochs, val_loss_o , \"+\", label=\"original model\")\n",
        "plt.plot(epochs, val_loss_s, \"bo\", label=\"smaller model\")\n",
        "\n",
        "plt.title(\"Effect of model capacity on validation loss: trying a smaller model\")\n",
        "plt.xlabel(\"Epochs\")\n",
        "plt.ylabel(\"Loss\")\n",
        "plt.legend()\n",
        "\n",
        "plt.show()"
      ],
      "metadata": {
        "colab": {
          "base_uri": "https://localhost:8080/",
          "height": 295
        },
        "id": "udImh6xdjWX8",
        "outputId": "d92c37f2-007f-4d1f-cecb-ddc6f7d45959"
      },
      "id": "udImh6xdjWX8",
      "execution_count": 21,
      "outputs": [
        {
          "output_type": "display_data",
          "data": {
            "text/plain": [
              "<Figure size 432x288 with 1 Axes>"
            ],
            "image/png": "[encoded data removed]"
          },
          "metadata": {
            "needs_background": "light"
          }
        }
      ]
    },
    {
      "cell_type": "markdown",
      "source": [
        "As can be seen, the smaller network starts overfitting later than the original, and its performance degrades more slowly once it start overfitting."
      ],
      "metadata": {
        "id": "ZTxEbkHtjh98"
      },
      "id": "ZTxEbkHtjh98"
    },
    {
      "cell_type": "markdown",
      "source": [
        "#### Effect of model capacity on validation loss: trying a bigger model"
      ],
      "metadata": {
        "id": "GDHyL06Art8d"
      },
      "id": "GDHyL06Art8d"
    },
    {
      "cell_type": "code",
      "source": [
        "\n",
        "# Bigger network\n",
        "model_h = models.Sequential()\n",
        "model_h.add(layers.Dense(512, activation=\"relu\", input_shape=(10000,)))\n",
        "model_h.add(layers.Dense(512, activation=\"relu\"))\n",
        "model_h.add(layers.Dense(1, activation=\"sigmoid\"))\n",
        "\n",
        "model_h.compile(optimizer=\"rmsprop\",\n",
        "              loss=\"binary_crossentropy\",\n",
        "              metrics=[\"accuracy\"])\n",
        "\n",
        "\n",
        "history_h = model_h.fit(partial_x_train,\n",
        "                   partial_y_train,\n",
        "                   epochs=20,\n",
        "                   batch_size=512,\n",
        "                   validation_data=(x_val, y_val),\n",
        "                   verbose=0)"
      ],
      "metadata": {
        "id": "YLdjBnWPu8dt"
      },
      "id": "YLdjBnWPu8dt",
      "execution_count": null,
      "outputs": []
    },
    {
      "cell_type": "code",
      "source": [
        "history_h_dict = history_h.history\n",
        "val_loss_h = history_h_dict[\"val_loss\"]\n",
        "val_loss_o = history_dict[\"val_loss\"]\n",
        "\n",
        "epochs = range(1, len(val_loss_o) + 1)\n",
        "\n",
        "plt.plot(epochs, val_loss_o , \"+\", label=\"original model\")\n",
        "plt.plot(epochs, val_loss_h, \"bo\", label=\"bigger model\")\n",
        "\n",
        "plt.title(\"Effect of model capacity on validation loss: trying a bigger model\",)\n",
        "plt.xlabel(\"Epochs\")\n",
        "plt.ylabel(\"Validation. Loss\")\n",
        "plt.legend()\n",
        "\n",
        "plt.show()"
      ],
      "metadata": {
        "colab": {
          "base_uri": "https://localhost:8080/",
          "height": 295
        },
        "id": "OTejT2ffuUV-",
        "outputId": "2e2447aa-75b5-4aff-8c5a-7033392b597e"
      },
      "id": "OTejT2ffuUV-",
      "execution_count": 20,
      "outputs": [
        {
          "output_type": "display_data",
          "data": {
            "text/plain": [
              "<Figure size 432x288 with 1 Axes>"
            ],
            "image/png": "[encoded data removed]"
          },
          "metadata": {
            "needs_background": "light"
          }
        }
      ]
    },
    {
      "cell_type": "markdown",
      "source": [
        "The bigger network starts overfitting almost immediately, after just one epoch and overfits much more severely"
      ],
      "metadata": {
        "id": "L7zwyq3jmfZq"
      },
      "id": "L7zwyq3jmfZq"
    },
    {
      "cell_type": "markdown",
      "source": [
        "#### Effect of model capacity on training loss: trying a bigger model"
      ],
      "metadata": {
        "id": "2q6NbJ6XxDEu"
      },
      "id": "2q6NbJ6XxDEu"
    },
    {
      "cell_type": "code",
      "source": [
        "# Bigger network\n",
        "history_h_dict = history_h.history\n",
        "val_loss_h = history_h_dict[\"loss\"]\n",
        "val_loss_o = history_dict[\"loss\"]\n",
        "\n",
        "epochs = range(1, len(val_loss_o) + 1)\n",
        "\n",
        "plt.plot(epochs, val_loss_o , \"+\", label=\"original model\")\n",
        "plt.plot(epochs, val_loss_h, \"bo\", label=\"bigger model\")\n",
        "\n",
        "plt.title(\"Effect of model capacity on validation loss: trying a bigger model\",)\n",
        "plt.xlabel(\"Epochs\")\n",
        "plt.ylabel(\"Validation. Loss\")\n",
        "plt.legend()\n",
        "\n",
        "plt.show()"
      ],
      "metadata": {
        "colab": {
          "base_uri": "https://localhost:8080/",
          "height": 295
        },
        "id": "Wr4_2zhcxI0Y",
        "outputId": "98690b1f-a3a1-4358-b840-c7cb4b2df7d3"
      },
      "id": "Wr4_2zhcxI0Y",
      "execution_count": 21,
      "outputs": [
        {
          "output_type": "display_data",
          "data": {
            "text/plain": [
              "<Figure size 432x288 with 1 Axes>"
            ],
            "image/png": "[encoded data removed]"
          },
          "metadata": {
            "needs_background": "light"
          }
        }
      ]
    },
    {
      "cell_type": "markdown",
      "source": [
        "The bigger network gets its training loss near zero very quickly.\n",
        "The more capacity the  network has, the more quickly it can model the training data but more susceotible to overfitting"
      ],
      "metadata": {
        "id": "f6PjUswCxV8w"
      },
      "id": "f6PjUswCxV8w"
    },
    {
      "cell_type": "markdown",
      "source": [
        "### 1.3 Adding Weight Regularization"
      ],
      "metadata": {
        "id": "RdbTVG-Cxwfn"
      },
      "id": "RdbTVG-Cxwfn"
    }
  ],
  "metadata": {
    "accelerator": "GPU",
    "colab": {
      "provenance": [],
      "include_colab_link": true
    },
    "gpuClass": "standard",
    "kernelspec": {
      "display_name": "Python 3 (ipykernel)",
      "language": "python",
      "name": "python3"
    },
    "language_info": {
      "codemirror_mode": {
        "name": "ipython",
        "version": 3
      },
      "file_extension": ".py",
      "mimetype": "text/x-python",
      "name": "python",
      "nbconvert_exporter": "python",
      "pygments_lexer": "ipython3",
      "version": "3.9.15"
    }
  },
  "nbformat": 4,
  "nbformat_minor": 5
}