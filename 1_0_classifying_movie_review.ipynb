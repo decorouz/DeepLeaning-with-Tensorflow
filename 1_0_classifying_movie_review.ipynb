{
  "cells": [
    {
      "cell_type": "markdown",
      "metadata": {
        "id": "view-in-github",
        "colab_type": "text"
      },
      "source": [
        "<a href=\"https://colab.research.google.com/github/decorouz/DeepLeaning-with-Tensorflow/blob/main/1_0_classifying_movie_review.ipynb\" target=\"_parent\"><img src=\"https://colab.research.google.com/assets/colab-badge.svg\" alt=\"Open In Colab\"/></a>"
      ]
    },
    {
      "cell_type": "markdown",
      "id": "42b88ba5",
      "metadata": {
        "id": "42b88ba5"
      },
      "source": [
        "# 1. Classifying movie reviews: a binary classification problem"
      ]
    },
    {
      "cell_type": "markdown",
      "id": "0f33007a",
      "metadata": {
        "id": "0f33007a"
      },
      "source": [
        "## The IMDB dataset\n",
        "You’ll work with the IMDB dataset: a set of 50,000 highly polarized reviews from the\n",
        "Internet Movie Database. They’re split into 25,000 reviews for training and 25,000\n",
        "reviews for testing, each set consisting of 50% negative and 50% positive reviews."
      ]
    },
    {
      "cell_type": "markdown",
      "id": "6459d93e",
      "metadata": {
        "id": "6459d93e"
      },
      "source": [
        "### 1.1 Loading the IMDB dataset"
      ]
    },
    {
      "cell_type": "code",
      "execution_count": 1,
      "id": "2efae0d8",
      "metadata": {
        "colab": {
          "base_uri": "https://localhost:8080/"
        },
        "id": "2efae0d8",
        "outputId": "01601f98-07d2-497a-e9b4-d7b36d6c282f"
      },
      "outputs": [
        {
          "output_type": "stream",
          "name": "stdout",
          "text": [
            "Downloading data from https://storage.googleapis.com/tensorflow/tf-keras-datasets/imdb.npz\n",
            "17464789/17464789 [==============================] - 1s 0us/step\n"
          ]
        }
      ],
      "source": [
        "from keras.datasets import imdb\n",
        "(train_data, train_labels), (test_data, test_labels) = imdb.load_data(num_words=10000)"
      ]
    },
    {
      "cell_type": "markdown",
      "id": "be036539",
      "metadata": {
        "id": "be036539"
      },
      "source": [
        "The `num_words` indicates you will only keep the 10,000 most frequently occuring words. The variables `train_data` and `test_data` are list of reviews; each review is a list word indices (encoding a sequence of word). `train_labels` and `test_labels` are lists of 0s and 1s, where 0 stands for negative and 1 stands for positive:"
      ]
    },
    {
      "cell_type": "code",
      "execution_count": 2,
      "id": "b1c89322",
      "metadata": {
        "colab": {
          "base_uri": "https://localhost:8080/"
        },
        "id": "b1c89322",
        "outputId": "df2ddca0-9757-452a-d699-909014e630ec"
      },
      "outputs": [
        {
          "output_type": "stream",
          "name": "stdout",
          "text": [
            "218\n"
          ]
        },
        {
          "output_type": "execute_result",
          "data": {
            "text/plain": [
              "1"
            ]
          },
          "metadata": {},
          "execution_count": 2
        }
      ],
      "source": [
        "# Checkout the nature of the data.\n",
        "print(len(train_data[0]))\n",
        "train_labels[0]"
      ]
    },
    {
      "cell_type": "markdown",
      "id": "4161066d",
      "metadata": {
        "id": "4161066d"
      },
      "source": [
        "Decoding one of the reviews back to english"
      ]
    },
    {
      "cell_type": "code",
      "execution_count": 3,
      "id": "766d16e2",
      "metadata": {
        "colab": {
          "base_uri": "https://localhost:8080/",
          "height": 126
        },
        "id": "766d16e2",
        "outputId": "7cabc2e5-a77c-495a-f533-b6f1037cde7f"
      },
      "outputs": [
        {
          "output_type": "stream",
          "name": "stdout",
          "text": [
            "Downloading data from https://storage.googleapis.com/tensorflow/tf-keras-datasets/imdb_word_index.json\n",
            "1641221/1641221 [==============================] - 0s 0us/step\n"
          ]
        },
        {
          "output_type": "execute_result",
          "data": {
            "text/plain": [
              "\"? as a big fan of the original film it's hard to watch this show the ? set ? and ? ? sets rob any style from this remake the mood is never there instead it has the look and feel of so many television movies of the seventies crenna is not a bad choice as walter ? but his snappy wardrobe and ? apartment don't fit the mood of the original or make him an interesting character he does his best to make it work but samantha ? is a really bad choice the english accent and california looks can't hold a candle to barbara ? ? voice and sex appeal lee j ? tries ? to fashion barton ? but even his performance is just gruff without style br br it feels like the tv movie it was and again reminds me of what a remarkable film the original still is\""
            ],
            "application/vnd.google.colaboratory.intrinsic+json": {
              "type": "string"
            }
          },
          "metadata": {},
          "execution_count": 3
        }
      ],
      "source": [
        "word_index = imdb.get_word_index()\n",
        "\n",
        "reversed_word_index = dict([(value, key) for key, value in word_index.items()])\n",
        "decoded_review = \" \".join([reversed_word_index.get(i-3, \"?\") for i in train_data[24999]])\n",
        "\n",
        "decoded_review"
      ]
    },
    {
      "cell_type": "markdown",
      "id": "d84737f9",
      "metadata": {
        "id": "d84737f9"
      },
      "source": [
        "#### 1.2 Preparing the dataset\n",
        "You can't feed a list into a model. You have to convert the list into tensors. There are two way to go about the conversion.\n",
        "* Padding your lists so that they have the same length, turn them into an integer tensor of shape (samples, word_indices).\n",
        "* One-hot encod your list to turn them into vectors of 0s, and 1's. "
      ]
    },
    {
      "cell_type": "code",
      "execution_count": 4,
      "id": "4bda931e",
      "metadata": {
        "id": "4bda931e"
      },
      "outputs": [],
      "source": [
        "import numpy as np\n",
        "# Encoding the integer sequences into a binary matrix\n",
        "def vectorize_sequences(sequences, dimension=10000):\n",
        "    results = np.zeros((len(sequences), dimension)) \n",
        "    \n",
        "    for i, sequence in enumerate(sequences):\n",
        "        results[i, sequence] = 1.\n",
        "    return results\n",
        "\n",
        "x_train = vectorize_sequences(train_data)\n",
        "x_test = vectorize_sequences(test_data)"
      ]
    },
    {
      "cell_type": "code",
      "execution_count": 5,
      "id": "9c1ee547",
      "metadata": {
        "colab": {
          "base_uri": "https://localhost:8080/"
        },
        "id": "9c1ee547",
        "outputId": "a6d19628-8003-42fd-82c1-c7d5ef43ad1b"
      },
      "outputs": [
        {
          "output_type": "execute_result",
          "data": {
            "text/plain": [
              "(25000, 10000)"
            ]
          },
          "metadata": {},
          "execution_count": 5
        }
      ],
      "source": [
        "x_test.shape"
      ]
    },
    {
      "cell_type": "code",
      "execution_count": 6,
      "id": "82fe7e09",
      "metadata": {
        "id": "82fe7e09"
      },
      "outputs": [],
      "source": [
        "# Vectorize the labels\n",
        "y_train = np.asarray(train_labels).astype(\"float32\")\n",
        "y_test = np.asarray(test_labels).astype(\"float32\")"
      ]
    },
    {
      "cell_type": "markdown",
      "id": "3aa88e11",
      "metadata": {
        "id": "3aa88e11"
      },
      "source": [
        "### 1.3 Build the Network\n",
        "\n",
        "Having 16 hidden unit means the weight `W` has a shape of `(input_dimension, 16)`."
      ]
    },
    {
      "cell_type": "code",
      "execution_count": 7,
      "id": "9aff7015",
      "metadata": {
        "id": "9aff7015"
      },
      "outputs": [],
      "source": [
        "from keras import models\n",
        "from keras import layers\n",
        "\n",
        "model = models.Sequential()\n",
        "model.add(layers.Dense(16, activation=\"relu\", input_shape=(10000,)))\n",
        "model.add(layers.Dense(16, activation=\"relu\"))\n",
        "model.add(layers.Dense(1, activation=\"sigmoid\"))"
      ]
    },
    {
      "cell_type": "markdown",
      "id": "01577d01",
      "metadata": {
        "id": "01577d01"
      },
      "source": [
        "### 1.4 Compiling the Model"
      ]
    },
    {
      "cell_type": "code",
      "execution_count": 8,
      "id": "41e8b819",
      "metadata": {
        "id": "41e8b819"
      },
      "outputs": [],
      "source": [
        "from keras import optimizers\n",
        "\n",
        "model.compile(optimizer=optimizers.RMSprop(learning_rate=0.001),\n",
        "             loss=\"binary_crossentropy\",\n",
        "             metrics =[\"accuracy\"])"
      ]
    },
    {
      "cell_type": "markdown",
      "id": "6ae9ab02",
      "metadata": {
        "id": "6ae9ab02"
      },
      "source": [
        "### 1.5 Setup Validation Approach:\n",
        "In order to monitor during training the accuracy of the model on data it as never seen before, create a validation set by setting aside 10,000 samples from the original training data."
      ]
    },
    {
      "cell_type": "code",
      "execution_count": 9,
      "id": "a47bc724",
      "metadata": {
        "id": "a47bc724"
      },
      "outputs": [],
      "source": [
        "x_val = x_train[:10000]\n",
        "partial_x_train = x_train[10000:]\n",
        "\n",
        "y_val = y_train[:10000]\n",
        "partial_y_train = y_train[10000:]"
      ]
    },
    {
      "cell_type": "markdown",
      "id": "78c321ca",
      "metadata": {
        "id": "78c321ca"
      },
      "source": [
        "### 1.6 Training the model\n",
        "You’ll now train the model for 20 epochs (20 iterations over all samples in the\n",
        "x_train and y_train tensors), in mini-batches of 512 samples. At the same time,\n",
        "you’ll monitor loss and accuracy on the 10,000 samples that you set apart. You do so by\n",
        "passing the validation data as the validation_data argument."
      ]
    },
    {
      "cell_type": "code",
      "execution_count": 10,
      "id": "157a666a",
      "metadata": {
        "colab": {
          "base_uri": "https://localhost:8080/"
        },
        "id": "157a666a",
        "outputId": "2d35f9cd-5abc-4bd7-aea2-6a61f93bf8d5"
      },
      "outputs": [
        {
          "output_type": "stream",
          "name": "stdout",
          "text": [
            "Epoch 1/20\n",
            "30/30 [==============================] - 4s 43ms/step - loss: 0.5012 - acc: 0.7851 - val_loss: 0.3750 - val_acc: 0.8684\n",
            "Epoch 2/20\n",
            "30/30 [==============================] - 1s 20ms/step - loss: 0.2943 - acc: 0.9045 - val_loss: 0.3149 - val_acc: 0.8784\n",
            "Epoch 3/20\n",
            "30/30 [==============================] - 1s 21ms/step - loss: 0.2197 - acc: 0.9283 - val_loss: 0.2872 - val_acc: 0.8860\n",
            "Epoch 4/20\n",
            "30/30 [==============================] - 1s 21ms/step - loss: 0.1726 - acc: 0.9436 - val_loss: 0.2768 - val_acc: 0.8873\n",
            "Epoch 5/20\n",
            "30/30 [==============================] - 1s 21ms/step - loss: 0.1404 - acc: 0.9545 - val_loss: 0.2825 - val_acc: 0.8871\n",
            "Epoch 6/20\n",
            "30/30 [==============================] - 1s 20ms/step - loss: 0.1174 - acc: 0.9632 - val_loss: 0.2928 - val_acc: 0.8851\n",
            "Epoch 7/20\n",
            "30/30 [==============================] - 1s 21ms/step - loss: 0.0948 - acc: 0.9736 - val_loss: 0.3104 - val_acc: 0.8847\n",
            "Epoch 8/20\n",
            "30/30 [==============================] - 1s 21ms/step - loss: 0.0798 - acc: 0.9765 - val_loss: 0.3319 - val_acc: 0.8834\n",
            "Epoch 9/20\n",
            "30/30 [==============================] - 1s 21ms/step - loss: 0.0648 - acc: 0.9823 - val_loss: 0.3782 - val_acc: 0.8714\n",
            "Epoch 10/20\n",
            "30/30 [==============================] - 1s 20ms/step - loss: 0.0522 - acc: 0.9875 - val_loss: 0.3990 - val_acc: 0.8777\n",
            "Epoch 11/20\n",
            "30/30 [==============================] - 1s 20ms/step - loss: 0.0446 - acc: 0.9897 - val_loss: 0.4097 - val_acc: 0.8785\n",
            "Epoch 12/20\n",
            "30/30 [==============================] - 1s 20ms/step - loss: 0.0350 - acc: 0.9922 - val_loss: 0.4374 - val_acc: 0.8751\n",
            "Epoch 13/20\n",
            "30/30 [==============================] - 1s 21ms/step - loss: 0.0280 - acc: 0.9943 - val_loss: 0.5008 - val_acc: 0.8639\n",
            "Epoch 14/20\n",
            "30/30 [==============================] - 1s 24ms/step - loss: 0.0226 - acc: 0.9965 - val_loss: 0.4990 - val_acc: 0.8707\n",
            "Epoch 15/20\n",
            "30/30 [==============================] - 1s 24ms/step - loss: 0.0181 - acc: 0.9975 - val_loss: 0.5332 - val_acc: 0.8713\n",
            "Epoch 16/20\n",
            "30/30 [==============================] - 1s 25ms/step - loss: 0.0138 - acc: 0.9983 - val_loss: 0.5667 - val_acc: 0.8704\n",
            "Epoch 17/20\n",
            "30/30 [==============================] - 1s 23ms/step - loss: 0.0125 - acc: 0.9977 - val_loss: 0.6029 - val_acc: 0.8682\n",
            "Epoch 18/20\n",
            "30/30 [==============================] - 1s 21ms/step - loss: 0.0062 - acc: 0.9999 - val_loss: 0.6385 - val_acc: 0.8651\n",
            "Epoch 19/20\n",
            "30/30 [==============================] - 1s 21ms/step - loss: 0.0089 - acc: 0.9984 - val_loss: 0.6702 - val_acc: 0.8665\n",
            "Epoch 20/20\n",
            "30/30 [==============================] - 1s 20ms/step - loss: 0.0036 - acc: 0.9999 - val_loss: 0.7146 - val_acc: 0.8635\n"
          ]
        }
      ],
      "source": [
        "model.compile(optimizer=\"rmsprop\",\n",
        "             loss=\"binary_crossentropy\",\n",
        "             metrics=[\"acc\"])\n",
        "\n",
        "\n",
        "history = model.fit(partial_x_train,\n",
        "                   partial_y_train,\n",
        "                   epochs=20,\n",
        "                   batch_size=512,\n",
        "                   validation_data=(x_val, y_val))"
      ]
    },
    {
      "cell_type": "markdown",
      "id": "f01aa8e2",
      "metadata": {
        "id": "f01aa8e2"
      },
      "source": [
        "### 1.7 Plotting the training and validation loss\n"
      ]
    },
    {
      "cell_type": "code",
      "execution_count": 11,
      "id": "fff0197e",
      "metadata": {
        "colab": {
          "base_uri": "https://localhost:8080/",
          "height": 295
        },
        "id": "fff0197e",
        "outputId": "8408224c-0139-442c-ddae-effd4c6d3707"
      },
      "outputs": [
        {
          "output_type": "display_data",
          "data": {
            "text/plain": [
              "<Figure size 432x288 with 1 Axes>"
            ],
            "image/png": "[encoded data removed]"
          },
          "metadata": {
            "needs_background": "light"
          }
        }
      ],
      "source": [
        "import matplotlib.pyplot as plt\n",
        "\n",
        "history_dict = history.history\n",
        "loss_values = history_dict[\"loss\"]\n",
        "val_loss_values = history_dict[\"val_loss\"]\n",
        "acc = history_dict[\"acc\"]\n",
        "\n",
        "epochs = range(1, len(acc) + 1)\n",
        "\n",
        "plt.plot(epochs, loss_values , \"bo\", label=\"Training loss\")\n",
        "plt.plot(epochs, val_loss_values, \"b\", label=\"Validation loss\")\n",
        "\n",
        "plt.title(\"Training and validation loss\")\n",
        "plt.xlabel(\"Epochs\")\n",
        "plt.ylabel(\"Loss\")\n",
        "plt.legend()\n",
        "\n",
        "plt.show()"
      ]
    },
    {
      "cell_type": "markdown",
      "id": "ffc38623",
      "metadata": {
        "id": "ffc38623"
      },
      "source": [
        "### 1.8 Plotting the training and validation accuracy"
      ]
    },
    {
      "cell_type": "code",
      "execution_count": null,
      "id": "f416bb38",
      "metadata": {
        "id": "f416bb38",
        "outputId": "115adb34-8603-46bc-edd4-7dd77fce1875"
      },
      "outputs": [
        {
          "data": {
            "image/png": "[encoded data removed]",
            "text/plain": [
              "<Figure size 640x480 with 1 Axes>"
            ]
          },
          "metadata": {},
          "output_type": "display_data"
        }
      ],
      "source": [
        "plt.clf()\n",
        "\n",
        "acc_values = history_dict[\"acc\"]\n",
        "val_acc_values = history_dict[\"val_acc\"]\n",
        "\n",
        "plt.plot(epochs, acc_values, \"bo\", label=\"Training accuracy\")\n",
        "plt.plot(epochs, val_acc_values, \"b\", label=\"Validation accuracy\")\n",
        "\n",
        "plt.title(\"Training and validation accuracy\")\n",
        "plt.xlabel(\"Epochs\")\n",
        "plt.ylabel(\"Accuracy\")\n",
        "plt.legend()\n",
        "plt.show()"
      ]
    },
    {
      "cell_type": "markdown",
      "id": "322d5874",
      "metadata": {
        "id": "322d5874"
      },
      "source": [
        "### 1.9 Retrain the model from scratch. \n",
        "From earlier training, it is observed that the validation accuracy and loss seems to peach at the fourth epoch. This is a case of overfitting. To prevent it, we could stop the training after three epochs."
      ]
    },
    {
      "cell_type": "code",
      "execution_count": null,
      "id": "64dc4145",
      "metadata": {
        "id": "64dc4145",
        "outputId": "296754f0-8056-4c38-dc8a-ad15c012c7cd"
      },
      "outputs": [
        {
          "name": "stdout",
          "output_type": "stream",
          "text": [
            "Epoch 1/4\n",
            "49/49 [==============================] - 2s 21ms/step - loss: 0.4685 - accuracy: 0.8130\n",
            "Epoch 2/4\n",
            "49/49 [==============================] - 1s 17ms/step - loss: 0.2779 - accuracy: 0.9028\n",
            "Epoch 3/4\n",
            "49/49 [==============================] - 1s 16ms/step - loss: 0.2198 - accuracy: 0.9205\n",
            "Epoch 4/4\n",
            "49/49 [==============================] - 1s 16ms/step - loss: 0.1886 - accuracy: 0.9312\n",
            "782/782 [==============================] - 2s 3ms/step - loss: 0.2919 - accuracy: 0.8836\n"
          ]
        }
      ],
      "source": [
        "model = models.Sequential()\n",
        "model.add(layers.Dense(16, activation='relu', input_shape=(10000,)))\n",
        "model.add(layers.Dense(16, activation='relu'))\n",
        "model.add(layers.Dense(1, activation='sigmoid'))\n",
        "\n",
        "\n",
        "model.compile(optimizer='rmsprop',\n",
        "              loss='binary_crossentropy',\n",
        "              metrics=['accuracy'])\n",
        "\n",
        "model.fit(x_train, y_train, epochs=4, batch_size=512)\n",
        "\n",
        "results = model.evaluate(x_test, y_test)"
      ]
    },
    {
      "cell_type": "markdown",
      "id": "f25edb0a",
      "metadata": {
        "id": "f25edb0a"
      },
      "source": [
        "### 1.10 Use train model to generate prediction on data\n",
        "\n",
        "After having trained a network, you’ll want to use it in a practical setting. You can generate\n",
        "the likelihood of reviews being positive by using the predict method:"
      ]
    },
    {
      "cell_type": "code",
      "execution_count": null,
      "id": "dc27d007",
      "metadata": {
        "id": "dc27d007",
        "outputId": "9f2d9cdb-b3f2-43b2-d211-e459a2886922"
      },
      "outputs": [
        {
          "name": "stdout",
          "output_type": "stream",
          "text": [
            "782/782 [==============================] - 2s 2ms/step\n"
          ]
        },
        {
          "data": {
            "text/plain": [
              "array([[0.28869104],\n",
              "       [0.9995244 ],\n",
              "       [0.9530702 ],\n",
              "       ...,\n",
              "       [0.11716624],\n",
              "       [0.11392664],\n",
              "       [0.7548393 ]], dtype=float32)"
            ]
          },
          "execution_count": 43,
          "metadata": {},
          "output_type": "execute_result"
        }
      ],
      "source": [
        "model.predict(x_test)"
      ]
    },
    {
      "cell_type": "markdown",
      "id": "45246186",
      "metadata": {
        "id": "45246186"
      },
      "source": [
        "### 1.11 Further experiments\n",
        "1. Try different hidden layers\n",
        "2. Use logistic regression on the same dataset\n",
        "3. Try different loss function \n",
        "4. Try using different activation function\n"
      ]
    },
    {
      "cell_type": "code",
      "execution_count": null,
      "id": "ad8dedcb",
      "metadata": {
        "id": "ad8dedcb"
      },
      "outputs": [],
      "source": []
    }
  ],
  "metadata": {
    "kernelspec": {
      "display_name": "Python 3 (ipykernel)",
      "language": "python",
      "name": "python3"
    },
    "language_info": {
      "codemirror_mode": {
        "name": "ipython",
        "version": 3
      },
      "file_extension": ".py",
      "mimetype": "text/x-python",
      "name": "python",
      "nbconvert_exporter": "python",
      "pygments_lexer": "ipython3",
      "version": "3.9.15"
    },
    "colab": {
      "provenance": [],
      "include_colab_link": true
    },
    "accelerator": "GPU",
    "gpuClass": "standard"
  },
  "nbformat": 4,
  "nbformat_minor": 5
}