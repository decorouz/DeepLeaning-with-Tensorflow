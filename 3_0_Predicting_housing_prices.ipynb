{
  "cells": [
    {
      "cell_type": "markdown",
      "metadata": {
        "id": "view-in-github",
        "colab_type": "text"
      },
      "source": [
        "<a href=\"https://colab.research.google.com/github/decorouz/DeepLeaning-with-Tensorflow/blob/main/3_0_Predicting_housing_prices.ipynb\" target=\"_parent\"><img src=\"https://colab.research.google.com/assets/colab-badge.svg\" alt=\"Open In Colab\"/></a>"
      ]
    },
    {
      "cell_type": "markdown",
      "metadata": {
        "id": "wXaSad5eeY5j"
      },
      "source": [
        "# 3.0 Predicting house prices: a regression example\n",
        "\n",
        "This involves predicting continous value instead of discrete label: for instance, predicting the temperature tomorrow, given meteorological data.\n",
        "\n",
        "The goal is to attempt to predict the median price of homes in a given Boston suburb in the mid-1970s, givent the data points about the suburb at the time."
      ]
    },
    {
      "cell_type": "markdown",
      "metadata": {
        "id": "fpgTX4WytpF2"
      },
      "source": [
        "### 3.1 The Boston Housing Price dataset\n",
        "\n",
        "The dataset have few datapoints: only 506, plit between 404 training samples and 102 test samples. Each feature in the input data has different scale.\n",
        "\n"
      ]
    },
    {
      "cell_type": "markdown",
      "metadata": {
        "id": "1eaaxlrvuYVA"
      },
      "source": [
        "####3.11 Loading the Boston housing dataset"
      ]
    },
    {
      "cell_type": "code",
      "execution_count": 53,
      "metadata": {
        "id": "YK4sPxdnufaK"
      },
      "outputs": [],
      "source": [
        "from keras.datasets import boston_housing\n",
        "\n",
        "(train_data, train_targets), (test_data, test_targets) = boston_housing.load_data()"
      ]
    },
    {
      "cell_type": "code",
      "execution_count": 54,
      "metadata": {
        "colab": {
          "base_uri": "https://localhost:8080/"
        },
        "id": "lyKwY6PJu5sp",
        "outputId": "b15e1de4-ad34-4367-cf68-9c1db677a3e5"
      },
      "outputs": [
        {
          "output_type": "stream",
          "name": "stdout",
          "text": [
            "The shape of the training data is (404, 13)\n",
            "The shape of the testing data set is (102, 13) \n"
          ]
        }
      ],
      "source": [
        "# look at the data\n",
        "print(f\"The shape of the training data is {train_data.shape}\")\n",
        "print(f\"The shape of the testing data set is {test_data.shape} \")"
      ]
    },
    {
      "cell_type": "code",
      "execution_count": 55,
      "metadata": {
        "colab": {
          "base_uri": "https://localhost:8080/"
        },
        "id": "UWnY_Ozh2w4W",
        "outputId": "55dac7d2-0440-4b05-bd87-ae84ed3a8748"
      },
      "outputs": [
        {
          "output_type": "execute_result",
          "data": {
            "text/plain": [
              "array([[1.23247e+00, 0.00000e+00, 8.14000e+00, ..., 2.10000e+01,\n",
              "        3.96900e+02, 1.87200e+01],\n",
              "       [2.17700e-02, 8.25000e+01, 2.03000e+00, ..., 1.47000e+01,\n",
              "        3.95380e+02, 3.11000e+00],\n",
              "       [4.89822e+00, 0.00000e+00, 1.81000e+01, ..., 2.02000e+01,\n",
              "        3.75520e+02, 3.26000e+00],\n",
              "       ...,\n",
              "       [3.46600e-02, 3.50000e+01, 6.06000e+00, ..., 1.69000e+01,\n",
              "        3.62250e+02, 7.83000e+00],\n",
              "       [2.14918e+00, 0.00000e+00, 1.95800e+01, ..., 1.47000e+01,\n",
              "        2.61950e+02, 1.57900e+01],\n",
              "       [1.43900e-02, 6.00000e+01, 2.93000e+00, ..., 1.56000e+01,\n",
              "        3.76700e+02, 4.38000e+00]])"
            ]
          },
          "metadata": {},
          "execution_count": 55
        }
      ],
      "source": [
        "train_data"
      ]
    },
    {
      "cell_type": "markdown",
      "metadata": {
        "id": "O9BFl_GHvNnL"
      },
      "source": [
        "#### 3.12 Preparing the data\n",
        "\n",
        "It would be problematic to feed into a neural network values that all take wildly different\n",
        "ranges. A widespread best practice to deal with such data is sto do feature-wise normalization."
      ]
    },
    {
      "cell_type": "code",
      "execution_count": 56,
      "metadata": {
        "id": "HfVqIQoDvdCv"
      },
      "outputs": [],
      "source": [
        "# Normalizing the data\n",
        "\n",
        "mean = train_data.mean(axis=0)\n",
        "std = test_data.std(axis=0)\n",
        "\n",
        "def normalize(data):\n",
        "  data -= mean\n",
        "  data /= std\n",
        "\n",
        "  return data\n",
        "\n",
        "train_data = normalize(train_data)\n",
        "test_data = normalize(test_data)"
      ]
    },
    {
      "cell_type": "code",
      "execution_count": 57,
      "metadata": {
        "colab": {
          "base_uri": "https://localhost:8080/"
        },
        "id": "RKv4hANt2RzP",
        "outputId": "cd1533ea-49f0-4937-a995-d83719759ee7"
      },
      "outputs": [
        {
          "output_type": "execute_result",
          "data": {
            "text/plain": [
              "(404, 13)"
            ]
          },
          "metadata": {},
          "execution_count": 57
        }
      ],
      "source": [
        "train_data.shape"
      ]
    },
    {
      "cell_type": "markdown",
      "metadata": {
        "id": "hTLZT7I4xWTP"
      },
      "source": [
        "### 3.2 Building the network\n",
        "\n",
        "Because only few samples are available. we will use a very small network with two hidden laters, eachwith 64 units.\n"
      ]
    },
    {
      "cell_type": "code",
      "execution_count": 58,
      "metadata": {
        "id": "5_-2ptKDxvoH"
      },
      "outputs": [],
      "source": [
        "# Model definition\n",
        "from keras import models\n",
        "from keras import layers\n",
        "\n",
        "def build_model():\n",
        "  model = models.Sequential()\n",
        "  model.add(layers.Dense(64, activation=\"relu\", input_shape=(train_data.shape[1],)))\n",
        "  model.add(layers.Dense(64, activation=\"relu\"))\n",
        "  model.add(layers.Dense(1))\n",
        "\n",
        "  # compile the model\n",
        "  model.compile(optimizer=\"rmsprop\",\n",
        "                loss=\"mse\",\n",
        "                metrics=[\"mae\"])\n",
        "  \n",
        "  return model"
      ]
    },
    {
      "cell_type": "markdown",
      "metadata": {
        "id": "BVmeXW-wy6fr"
      },
      "source": [
        "Mean absolute error (MAE) is metric to monitor. The absolute value of the difference between the predictions and thetargets. For instance, an MAE of 0.5 on this problem would mean your predictions are off by $500 on average"
      ]
    },
    {
      "cell_type": "markdown",
      "metadata": {
        "id": "oj6Cy9W9zYjI"
      },
      "source": [
        "#### 3.14 Validation Approach using K-Fold validation.\n",
        "\n",
        "In cases of limited data, splitting the training data into validation and train will result in high variance. That is the validation score might change a lot depending on which data point you chose to use for validation and which you chose for training. \n",
        "\n",
        "Therefore an approach such as K-fold validation is best practice. It consists of splitting the available data into K partitions (typically K = 4 or 5), instantiating\n",
        "K identical models, and training each one on K – 1 partitions while evaluating on\n",
        "the remaining partition. The validation score for the model used is then the average of\n",
        "the K validation scores obtained. In terms of code, this is straightforward."
      ]
    },
    {
      "cell_type": "code",
      "execution_count": 59,
      "metadata": {
        "colab": {
          "base_uri": "https://localhost:8080/"
        },
        "id": "ujmxXWDj0OYP",
        "outputId": "bbe67fee-701d-4ae8-89e6-d37de0b28b95"
      },
      "outputs": [
        {
          "output_type": "stream",
          "name": "stdout",
          "text": [
            "Processing fold # 0\n",
            "Processing fold # 1\n",
            "Processing fold # 2\n",
            "Processing fold # 3\n"
          ]
        }
      ],
      "source": [
        "# K-fold validation\n",
        "\n",
        "import numpy as np\n",
        "\n",
        "\n",
        "k = 4\n",
        "num_val_samples  = len(train_data) // k\n",
        "num_epochs = 100\n",
        "all_scores = []\n",
        "\n",
        "\n",
        "for i in range(k):\n",
        "  print(\"Processing fold #\", i)\n",
        "  val_data = train_data[i*num_val_samples: (i+1)*num_val_samples]       # prepare the validation data: data from partition #k\n",
        "  val_targets = train_targets[i*num_val_samples: (i+1)*num_val_samples] # prepare the training data: data from all other partitions\n",
        "\n",
        "  partial_train_data = np.concatenate([train_data[:i * num_val_samples],\n",
        "                                       train_data[(i+1) * num_val_samples:]],\n",
        "                                      axis=0)\n",
        "  partial_train_targets = np.concatenate([train_targets[:i * num_val_samples],\n",
        "                                          train_targets[(i + 1) * num_val_samples:]],\n",
        "                                         axis=0)\n",
        "  \n",
        "  model = build_model()                                                   # Build the Keras model\n",
        "  model.fit(partial_train_data,\n",
        "            partial_train_targets,\n",
        "            epochs=num_epochs,\n",
        "            batch_size=1,\n",
        "            verbose=0)\n",
        "  \n",
        "  val_mse, val_mae = model.evaluate(val_data, val_targets, verbose=0)\n",
        "  all_scores.append(val_mae)\n",
        "\n",
        "\n"
      ]
    },
    {
      "cell_type": "code",
      "execution_count": 8,
      "metadata": {
        "id": "YVnNZ4Jn5ZPS",
        "colab": {
          "base_uri": "https://localhost:8080/"
        },
        "outputId": "40f3ae68-6944-4264-d6f8-23a998f394bb"
      },
      "outputs": [
        {
          "output_type": "stream",
          "name": "stdout",
          "text": [
            "[2.1776113510131836, 2.665213108062744, 2.768186569213867, 2.7034518718719482]\n"
          ]
        },
        {
          "output_type": "execute_result",
          "data": {
            "text/plain": [
              "2.578615725040436"
            ]
          },
          "metadata": {},
          "execution_count": 8
        }
      ],
      "source": [
        "#Running this with num_epochs=100 yields\n",
        "print(all_scores)\n",
        "np.mean(all_scores)"
      ]
    },
    {
      "cell_type": "markdown",
      "metadata": {
        "id": "HzPFG5zh59ec"
      },
      "source": [
        "The different run do indeed show rather different validation scores, from 2.0 - 2.5. The average (2.3) is much more reliable than any single score- that is the entire point of the k-fold cross-validation.\n",
        "\n",
        "In this case, you're off by `$2300` on average, which issignificant considering the prices of house range from `$10,000 to $50,000`.\n",
        "\n",
        "Let's try training the network a bit longer: 500 epochs."
      ]
    },
    {
      "cell_type": "code",
      "execution_count": 9,
      "metadata": {
        "id": "JmhyGuC676qw",
        "colab": {
          "base_uri": "https://localhost:8080/"
        },
        "outputId": "4e06d1fb-ed4c-4d59-d218-beff182d9c1e"
      },
      "outputs": [
        {
          "output_type": "stream",
          "name": "stdout",
          "text": [
            "Processing fold # 0\n",
            "Processing fold # 1\n",
            "Processing fold # 2\n",
            "Processing fold # 3\n"
          ]
        }
      ],
      "source": [
        "# Saving the validation logs at each fold\n",
        "\n",
        "num_epochs = 500\n",
        "all_mae_histories = []\n",
        "\n",
        "for i in range(k):\n",
        "  print(\"Processing fold #\", i)\n",
        "  val_data = train_data[i*num_val_samples: (i+1)*num_val_samples]       # prepare the validation data: data from partition #k\n",
        "  val_targets = train_targets[i*num_val_samples: (i+1)*num_val_samples] # prepare the training data: data from all other partitions\n",
        "\n",
        "  partial_train_data = np.concatenate([train_data[:i * num_val_samples],\n",
        "                                       train_data[(i+1) * num_val_samples:]],\n",
        "                                      axis=0)\n",
        "  partial_train_targets = np.concatenate([train_targets[:i * num_val_samples],\n",
        "                                          train_targets[(i + 1) * num_val_samples:]],\n",
        "                                         axis=0)\n",
        "  \n",
        "  model = build_model()                                                   # Build the Keras model\n",
        "  history = model.fit(partial_train_data,\n",
        "                      partial_train_targets,\n",
        "                      epochs=num_epochs,\n",
        "                      batch_size=1,\n",
        "                      validation_data=(val_data,val_targets),\n",
        "                      verbose=0)\n",
        "  mae_history = history.history[\"val_mae\"]\n",
        "  all_mae_histories.append(mae_history)\n",
        "\n"
      ]
    },
    {
      "cell_type": "code",
      "execution_count": null,
      "metadata": {
        "id": "aTzunfUx9UxO"
      },
      "outputs": [],
      "source": [
        "# Building the history of successive mean K-fold validation scores\n",
        "# Compute the average of the per-epoch MAE score for all folds.\n",
        "\n",
        "average_mae_history = [np.mean([x[i] for x in all_mae_histories]) for i in range(num_epochs)]\n",
        "average_mae_history"
      ]
    },
    {
      "cell_type": "markdown",
      "metadata": {
        "id": "7nz3fQ_1-poM"
      },
      "source": [
        "### 3.5 Plotting The figures"
      ]
    },
    {
      "cell_type": "markdown",
      "source": [
        "####3.51 Plotting the validation scores"
      ],
      "metadata": {
        "id": "WmmjkoVOEN1M"
      }
    },
    {
      "cell_type": "code",
      "execution_count": 16,
      "metadata": {
        "id": "j2a5oATk-w2S",
        "colab": {
          "base_uri": "https://localhost:8080/",
          "height": 279
        },
        "outputId": "9f1f5900-02ed-4358-e338-b950cce8f576"
      },
      "outputs": [
        {
          "output_type": "display_data",
          "data": {
            "text/plain": [
              "<Figure size 432x288 with 1 Axes>"
            ],
            "image/png": "[encoded data removed]"
          },
          "metadata": {
            "needs_background": "light"
          }
        }
      ],
      "source": [
        "import matplotlib.pyplot as plt\n",
        "\n",
        "plt.plot(range(1, len(average_mae_history)+1), average_mae_history)\n",
        "plt.xlabel(\"Epochs\")\n",
        "plt.ylabel(\"Validation MAE\")\n",
        "plt.show()\n"
      ]
    },
    {
      "cell_type": "markdown",
      "source": [
        "It is a litle difficult to see the plot, due to high variance and scaling issues. Do the following to correct:\n",
        "* Omit the first 10 data points, which are on a different scale than the rest of the curve. \n",
        "* Replace each point with an exponential moving average of the previous points to obtain a smooth curve"
      ],
      "metadata": {
        "id": "gDeXQ6HNDEJd"
      }
    },
    {
      "cell_type": "markdown",
      "source": [
        "####3.52 Plotting validation scores, excluding the first 10 data points."
      ],
      "metadata": {
        "id": "Arovn0qwD4_n"
      }
    },
    {
      "cell_type": "code",
      "source": [
        "def smooth_curve(points, factor=0.9):\n",
        "  smoothed_points = []\n",
        "  for point in points:\n",
        "    if smoothed_points:\n",
        "      previous = smoothed_points[-1]\n",
        "      smoothed_points.append(previous * factor + point * (1-factor))\n",
        "    else:\n",
        "      smoothed_points.append(point)\n",
        "  return smoothed_points\n",
        "\n",
        "smooth_mae_history = smooth_curve(average_mae_history[10:])\n",
        "\n",
        "plt.plot(range(1, len(smooth_mae_history) + 1), smooth_mae_history)\n",
        "plt.xlabel(\"Epochs\")\n",
        "plt.ylabel(\"Validation MAE\")\n",
        "plt.show()\n"
      ],
      "metadata": {
        "colab": {
          "base_uri": "https://localhost:8080/",
          "height": 279
        },
        "id": "sqUwrhMkEdFb",
        "outputId": "32776321-1640-4975-b131-78c7681beda3"
      },
      "execution_count": 46,
      "outputs": [
        {
          "output_type": "display_data",
          "data": {
            "text/plain": [
              "<Figure size 432x288 with 1 Axes>"
            ],
            "image/png": "[encoded data removed]"
          },
          "metadata": {
            "needs_background": "light"
          }
        }
      ]
    },
    {
      "cell_type": "markdown",
      "source": [
        "According to this plot, validation MAE stops improving after 80 epochs. Pass that point, you start overfitting."
      ],
      "metadata": {
        "id": "CkoAQ19SLNh3"
      }
    },
    {
      "cell_type": "markdown",
      "source": [
        "###3.6 Training the final model.\n",
        "After turning other parameters, like the hidden layers and the number of epochs."
      ],
      "metadata": {
        "id": "qwvxUGamRswe"
      }
    },
    {
      "cell_type": "code",
      "source": [
        "model = build_model()\n",
        "model.fit(train_data,\n",
        "          train_targets, \n",
        "          epochs=80,\n",
        "          batch_size=16,\n",
        "          verbose=0)\n",
        "\n",
        "test_mse_score, test_mae_score = model.evaluate(test_data, test_targest)"
      ],
      "metadata": {
        "colab": {
          "base_uri": "https://localhost:8080/"
        },
        "id": "FbH0D25mSAZt",
        "outputId": "bbcc5b2e-0ccf-421f-d677-a832a671fa8f"
      },
      "execution_count": 51,
      "outputs": [
        {
          "output_type": "stream",
          "name": "stdout",
          "text": [
            "4/4 [==============================] - 0s 5ms/step - loss: 17.9893 - mae: 2.6119\n"
          ]
        }
      ]
    },
    {
      "cell_type": "code",
      "source": [
        "test_mae_score"
      ],
      "metadata": {
        "colab": {
          "base_uri": "https://localhost:8080/"
        },
        "id": "ycuKHZGVS8BU",
        "outputId": "f4b05b26-f281-4679-c252-d08a2dd3acfa"
      },
      "execution_count": 52,
      "outputs": [
        {
          "output_type": "execute_result",
          "data": {
            "text/plain": [
              "2.6119072437286377"
            ]
          },
          "metadata": {},
          "execution_count": 52
        }
      ]
    },
    {
      "cell_type": "markdown",
      "source": [
        "Still off by `$2600`"
      ],
      "metadata": {
        "id": "Buk-fioKS-iR"
      }
    },
    {
      "cell_type": "code",
      "source": [],
      "metadata": {
        "colab": {
          "base_uri": "https://localhost:8080/"
        },
        "id": "8ctShhO4x0VC",
        "outputId": "97d46d65-25ab-4270-93e3-f939bc42b85e"
      },
      "execution_count": 5,
      "outputs": [
        {
          "output_type": "execute_result",
          "data": {
            "text/plain": [
              "(4,)"
            ]
          },
          "metadata": {},
          "execution_count": 5
        }
      ]
    },
    {
      "cell_type": "code",
      "source": [],
      "metadata": {
        "id": "IWH_ztgvx3ie"
      },
      "execution_count": null,
      "outputs": []
    }
  ],
  "metadata": {
    "accelerator": "GPU",
    "colab": {
      "provenance": [],
      "authorship_tag": "ABX9TyNnAMgwxOh/qAV3YVda7RKS",
      "include_colab_link": true
    },
    "gpuClass": "standard",
    "kernelspec": {
      "display_name": "Python 3",
      "name": "python3"
    },
    "language_info": {
      "name": "python"
    }
  },
  "nbformat": 4,
  "nbformat_minor": 0
}