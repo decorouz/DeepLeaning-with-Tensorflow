{
 "cells": [
  {
   "cell_type": "markdown",
   "id": "42b88ba5",
   "metadata": {},
   "source": [
    "# 1. Classifying movie reviews: a binary classification problem"
   ]
  },
  {
   "cell_type": "markdown",
   "id": "0f33007a",
   "metadata": {},
   "source": [
    "## The IMDB dataset\n",
    "You’ll work with the IMDB dataset: a set of 50,000 highly polarized reviews from the\n",
    "Internet Movie Database. They’re split into 25,000 reviews for training and 25,000\n",
    "reviews for testing, each set consisting of 50% negative and 50% positive reviews."
   ]
  },
  {
   "cell_type": "markdown",
   "id": "6459d93e",
   "metadata": {},
   "source": [
    "### 1.1 Loading the IMDB dataset"
   ]
  },
  {
   "cell_type": "code",
   "execution_count": 7,
   "id": "2efae0d8",
   "metadata": {},
   "outputs": [
    {
     "name": "stdout",
     "output_type": "stream",
     "text": [
      "Downloading data from https://storage.googleapis.com/tensorflow/tf-keras-datasets/imdb.npz\n",
      "17464789/17464789 [==============================] - 27s 2us/step\n"
     ]
    }
   ],
   "source": [
    "from keras.datasets import imdb\n",
    "(train_data, train_labels), (test_data, test_labels) = imdb.load_data(num_words=10000)"
   ]
  },
  {
   "cell_type": "markdown",
   "id": "be036539",
   "metadata": {},
   "source": [
    "The `num_words` indicates you will only keep the 10,000 most frequently occuring words. The variables `train_data` and `test_data` are list of reviews; each review is a list word indices (encoding a sequence of word). `train_labels` and `test_labels` are lists of 0s and 1s, where 0 stands for negative and 1 stands for positive:"
   ]
  },
  {
   "cell_type": "code",
   "execution_count": 10,
   "id": "b1c89322",
   "metadata": {},
   "outputs": [
    {
     "name": "stdout",
     "output_type": "stream",
     "text": [
      "218\n"
     ]
    },
    {
     "data": {
      "text/plain": [
       "1"
      ]
     },
     "execution_count": 10,
     "metadata": {},
     "output_type": "execute_result"
    }
   ],
   "source": [
    "# Checkout the nature of the data.\n",
    "print(len(train_data[0]))\n",
    "train_labels[0]"
   ]
  },
  {
   "cell_type": "markdown",
   "id": "4161066d",
   "metadata": {},
   "source": [
    "Decoding one of the reviews back to english"
   ]
  },
  {
   "cell_type": "code",
   "execution_count": 18,
   "id": "766d16e2",
   "metadata": {},
   "outputs": [
    {
     "data": {
      "text/plain": [
       "\"? as a big fan of the original film it's hard to watch this show the ? set ? and ? ? sets rob any style from this remake the mood is never there instead it has the look and feel of so many television movies of the seventies crenna is not a bad choice as walter ? but his snappy wardrobe and ? apartment don't fit the mood of the original or make him an interesting character he does his best to make it work but samantha ? is a really bad choice the english accent and california looks can't hold a candle to barbara ? ? voice and sex appeal lee j ? tries ? to fashion barton ? but even his performance is just gruff without style br br it feels like the tv movie it was and again reminds me of what a remarkable film the original still is\""
      ]
     },
     "execution_count": 18,
     "metadata": {},
     "output_type": "execute_result"
    }
   ],
   "source": [
    "word_index = imdb.get_word_index()\n",
    "\n",
    "reversed_word_index = dict([(value, key) for key, value in word_index.items()])\n",
    "decoded_review = \" \".join([reversed_word_index.get(i-3, \"?\") for i in train_data[24999]])\n",
    "\n",
    "decoded_review"
   ]
  },
  {
   "cell_type": "markdown",
   "id": "d84737f9",
   "metadata": {},
   "source": [
    "#### 1.2 Preparing the dataset\n",
    "You can't feed a list into a model. You have to convert the list into tensors. There are two way to go about the conversion.\n",
    "* Padding your lists so that they have the same length, turn them into an integer tensor of shape (samples, word_indices).\n",
    "* One-hot encod your list to turn them into vectors of 0s, and 1's. "
   ]
  },
  {
   "cell_type": "code",
   "execution_count": 21,
   "id": "4bda931e",
   "metadata": {},
   "outputs": [],
   "source": [
    "import numpy as np\n",
    "# Encoding the integer sequences into a binary matrix\n",
    "def vectorize_sequences(sequences, dimension=10000):\n",
    "    results = np.zeros((len(sequences), dimension)) \n",
    "    \n",
    "    for i, sequence in enumerate(sequences):\n",
    "        results[i, sequence] = 1.\n",
    "    return results\n",
    "\n",
    "x_train = vectorize_sequences(train_data)\n",
    "x_test = vectorize_sequences(test_data)"
   ]
  },
  {
   "cell_type": "code",
   "execution_count": 25,
   "id": "9c1ee547",
   "metadata": {},
   "outputs": [
    {
     "data": {
      "text/plain": [
       "(25000, 10000)"
      ]
     },
     "execution_count": 25,
     "metadata": {},
     "output_type": "execute_result"
    }
   ],
   "source": [
    "x_test.shape"
   ]
  },
  {
   "cell_type": "code",
   "execution_count": 26,
   "id": "82fe7e09",
   "metadata": {},
   "outputs": [],
   "source": [
    "# Vectorize the labels\n",
    "y_train = np.asarray(train_labels).astype(\"float32\")\n",
    "y_test = np.asarray(test_labels).astype(\"float32\")"
   ]
  },
  {
   "cell_type": "markdown",
   "id": "3aa88e11",
   "metadata": {},
   "source": [
    "### 1.3 Build the Network\n",
    "\n",
    "Having 16 hidden unit means the weight `W` has a shape of `(input_dimension, 16)`."
   ]
  },
  {
   "cell_type": "code",
   "execution_count": 28,
   "id": "9aff7015",
   "metadata": {},
   "outputs": [],
   "source": [
    "from keras import models\n",
    "from keras import layers\n",
    "\n",
    "model = models.Sequential()\n",
    "model.add(layers.Dense(16, activation=\"relu\", input_shape=(10000,)))\n",
    "model.add(layers.Dense(16, activation=\"relu\"))\n",
    "model.add(layers.Dense(1, activation=\"sigmoid\"))"
   ]
  },
  {
   "cell_type": "markdown",
   "id": "01577d01",
   "metadata": {},
   "source": [
    "### 1.4 Compiling the Model"
   ]
  },
  {
   "cell_type": "code",
   "execution_count": 33,
   "id": "41e8b819",
   "metadata": {},
   "outputs": [],
   "source": [
    "from keras import optimizers\n",
    "\n",
    "model.compile(optimizer=optimizers.RMSprop(learning_rate=0.001),\n",
    "             loss=\"binary_crossentropy\",\n",
    "             metrics =[\"accuracy\"])"
   ]
  },
  {
   "cell_type": "markdown",
   "id": "6ae9ab02",
   "metadata": {},
   "source": [
    "### 1.5 Setup Validation Approach:\n",
    "In order to monitor during training the accuracy of the model on data it as never seen before, create a validation set by setting aside 10,000 samples from the original training data."
   ]
  },
  {
   "cell_type": "code",
   "execution_count": 34,
   "id": "a47bc724",
   "metadata": {},
   "outputs": [],
   "source": [
    "x_val = x_train[:10000]\n",
    "partial_x_train = x_train[10000:]\n",
    "\n",
    "y_val = y_train[:10000]\n",
    "partial_y_train = y_train[10000:]"
   ]
  },
  {
   "cell_type": "markdown",
   "id": "78c321ca",
   "metadata": {},
   "source": [
    "### 1.6 Training the model\n",
    "You’ll now train the model for 20 epochs (20 iterations over all samples in the\n",
    "x_train and y_train tensors), in mini-batches of 512 samples. At the same time,\n",
    "you’ll monitor loss and accuracy on the 10,000 samples that you set apart. You do so by\n",
    "passing the validation data as the validation_data argument."
   ]
  },
  {
   "cell_type": "code",
   "execution_count": 35,
   "id": "157a666a",
   "metadata": {},
   "outputs": [
    {
     "name": "stdout",
     "output_type": "stream",
     "text": [
      "Epoch 1/20\n",
      "30/30 [==============================] - 2s 58ms/step - loss: 0.5590 - acc: 0.7521 - val_loss: 0.4299 - val_acc: 0.8531\n",
      "Epoch 2/20\n",
      "30/30 [==============================] - 1s 22ms/step - loss: 0.3510 - acc: 0.8891 - val_loss: 0.3331 - val_acc: 0.8776\n",
      "Epoch 3/20\n",
      "30/30 [==============================] - 1s 23ms/step - loss: 0.2568 - acc: 0.9160 - val_loss: 0.3039 - val_acc: 0.8791\n",
      "Epoch 4/20\n",
      "30/30 [==============================] - 1s 22ms/step - loss: 0.2097 - acc: 0.9313 - val_loss: 0.2998 - val_acc: 0.8796\n",
      "Epoch 5/20\n",
      "30/30 [==============================] - 1s 22ms/step - loss: 0.1709 - acc: 0.9478 - val_loss: 0.2809 - val_acc: 0.8848\n",
      "Epoch 6/20\n",
      "30/30 [==============================] - 1s 25ms/step - loss: 0.1454 - acc: 0.9547 - val_loss: 0.3050 - val_acc: 0.8786\n",
      "Epoch 7/20\n",
      "30/30 [==============================] - 1s 32ms/step - loss: 0.1207 - acc: 0.9639 - val_loss: 0.3342 - val_acc: 0.8714\n",
      "Epoch 8/20\n",
      "30/30 [==============================] - 1s 27ms/step - loss: 0.1031 - acc: 0.9711 - val_loss: 0.3010 - val_acc: 0.8839\n",
      "Epoch 9/20\n",
      "30/30 [==============================] - 1s 24ms/step - loss: 0.0904 - acc: 0.9755 - val_loss: 0.3158 - val_acc: 0.8801\n",
      "Epoch 10/20\n",
      "30/30 [==============================] - 1s 26ms/step - loss: 0.0775 - acc: 0.9791 - val_loss: 0.3301 - val_acc: 0.8807\n",
      "Epoch 11/20\n",
      "30/30 [==============================] - 1s 24ms/step - loss: 0.0649 - acc: 0.9843 - val_loss: 0.3503 - val_acc: 0.8793\n",
      "Epoch 12/20\n",
      "30/30 [==============================] - 1s 25ms/step - loss: 0.0535 - acc: 0.9889 - val_loss: 0.3715 - val_acc: 0.8745\n",
      "Epoch 13/20\n",
      "30/30 [==============================] - 1s 24ms/step - loss: 0.0483 - acc: 0.9893 - val_loss: 0.3800 - val_acc: 0.8774\n",
      "Epoch 14/20\n",
      "30/30 [==============================] - 1s 24ms/step - loss: 0.0375 - acc: 0.9931 - val_loss: 0.4044 - val_acc: 0.8739\n",
      "Epoch 15/20\n",
      "30/30 [==============================] - 1s 30ms/step - loss: 0.0298 - acc: 0.9959 - val_loss: 0.4906 - val_acc: 0.8579\n",
      "Epoch 16/20\n",
      "30/30 [==============================] - 1s 32ms/step - loss: 0.0268 - acc: 0.9959 - val_loss: 0.4514 - val_acc: 0.8707\n",
      "Epoch 17/20\n",
      "30/30 [==============================] - 1s 26ms/step - loss: 0.0217 - acc: 0.9971 - val_loss: 0.4658 - val_acc: 0.8739\n",
      "Epoch 18/20\n",
      "30/30 [==============================] - 1s 26ms/step - loss: 0.0167 - acc: 0.9988 - val_loss: 0.4918 - val_acc: 0.8720\n",
      "Epoch 19/20\n",
      "30/30 [==============================] - 1s 42ms/step - loss: 0.0149 - acc: 0.9989 - val_loss: 0.5145 - val_acc: 0.8712\n",
      "Epoch 20/20\n",
      "30/30 [==============================] - 1s 29ms/step - loss: 0.0133 - acc: 0.9983 - val_loss: 0.5302 - val_acc: 0.8714\n"
     ]
    }
   ],
   "source": [
    "model.compile(optimizer=\"rmsprop\",\n",
    "             loss=\"binary_crossentropy\",\n",
    "             metrics=[\"acc\"])\n",
    "\n",
    "\n",
    "history = model.fit(partial_x_train,\n",
    "                   partial_y_train,\n",
    "                   epochs=20,\n",
    "                   batch_size=512,\n",
    "                   validation_data=(x_val, y_val))"
   ]
  },
  {
   "cell_type": "markdown",
   "id": "f01aa8e2",
   "metadata": {},
   "source": [
    "### 1.7 Plotting the training and validation loss\n"
   ]
  },
  {
   "cell_type": "code",
   "execution_count": 40,
   "id": "fff0197e",
   "metadata": {},
   "outputs": [
    {
     "data": {
      "image/png": "[encoded data removed]",
      "text/plain": [
       "<Figure size 640x480 with 1 Axes>"
      ]
     },
     "metadata": {},
     "output_type": "display_data"
    }
   ],
   "source": [
    "import matplotlib.pyplot as plt\n",
    "\n",
    "history_dict = history.history\n",
    "loss_values = history_dict[\"loss\"]\n",
    "val_loss_values = history_dict[\"val_loss\"]\n",
    "acc = history_dict[\"acc\"]\n",
    "\n",
    "epochs = range(1, len(acc) + 1)\n",
    "\n",
    "plt.plot(epochs, loss_values , \"bo\", label=\"Training loss\")\n",
    "plt.plot(epochs, val_loss_values, \"b\", label=\"Validation loss\")\n",
    "\n",
    "plt.title(\"Training and validation loss\")\n",
    "plt.xlabel(\"Epochs\")\n",
    "plt.ylabel(\"Loss\")\n",
    "plt.legend()\n",
    "\n",
    "plt.show()"
   ]
  },
  {
   "cell_type": "markdown",
   "id": "ffc38623",
   "metadata": {},
   "source": [
    "### 1.8 Plotting the training and validation accuracy"
   ]
  },
  {
   "cell_type": "code",
   "execution_count": 41,
   "id": "f416bb38",
   "metadata": {},
   "outputs": [
    {
     "data": {
      "image/png": "[encoded data removed]",
      "text/plain": [
       "<Figure size 640x480 with 1 Axes>"
      ]
     },
     "metadata": {},
     "output_type": "display_data"
    }
   ],
   "source": [
    "plt.clf()\n",
    "\n",
    "acc_values = history_dict[\"acc\"]\n",
    "val_acc_values = history_dict[\"val_acc\"]\n",
    "\n",
    "plt.plot(epochs, acc_values, \"bo\", label=\"Training accuracy\")\n",
    "plt.plot(epochs, val_acc_values, \"b\", label=\"Validation accuracy\")\n",
    "\n",
    "plt.title(\"Training and validation accuracy\")\n",
    "plt.xlabel(\"Epochs\")\n",
    "plt.ylabel(\"Accuracy\")\n",
    "plt.legend()\n",
    "plt.show()"
   ]
  },
  {
   "cell_type": "markdown",
   "id": "322d5874",
   "metadata": {},
   "source": [
    "### 1.9 Retrain the model from scratch. \n",
    "From earlier training, it is observed that the validation accuracy and loss seems to peach at the fourth epoch. This is a case of overfitting. To prevent it, we could stop the training after three epochs."
   ]
  },
  {
   "cell_type": "code",
   "execution_count": 42,
   "id": "64dc4145",
   "metadata": {},
   "outputs": [
    {
     "name": "stdout",
     "output_type": "stream",
     "text": [
      "Epoch 1/4\n",
      "49/49 [==============================] - 2s 21ms/step - loss: 0.4685 - accuracy: 0.8130\n",
      "Epoch 2/4\n",
      "49/49 [==============================] - 1s 17ms/step - loss: 0.2779 - accuracy: 0.9028\n",
      "Epoch 3/4\n",
      "49/49 [==============================] - 1s 16ms/step - loss: 0.2198 - accuracy: 0.9205\n",
      "Epoch 4/4\n",
      "49/49 [==============================] - 1s 16ms/step - loss: 0.1886 - accuracy: 0.9312\n",
      "782/782 [==============================] - 2s 3ms/step - loss: 0.2919 - accuracy: 0.8836\n"
     ]
    }
   ],
   "source": [
    "model = models.Sequential()\n",
    "model.add(layers.Dense(16, activation='relu', input_shape=(10000,)))\n",
    "model.add(layers.Dense(16, activation='relu'))\n",
    "model.add(layers.Dense(1, activation='sigmoid'))\n",
    "\n",
    "\n",
    "model.compile(optimizer='rmsprop',\n",
    "              loss='binary_crossentropy',\n",
    "              metrics=['accuracy'])\n",
    "\n",
    "model.fit(x_train, y_train, epochs=4, batch_size=512)\n",
    "\n",
    "results = model.evaluate(x_test, y_test)"
   ]
  },
  {
   "cell_type": "markdown",
   "id": "f25edb0a",
   "metadata": {},
   "source": [
    "### 1.10 Use train model to generate prediction on data\n",
    "\n",
    "After having trained a network, you’ll want to use it in a practical setting. You can generate\n",
    "the likelihood of reviews being positive by using the predict method:"
   ]
  },
  {
   "cell_type": "code",
   "execution_count": 43,
   "id": "dc27d007",
   "metadata": {},
   "outputs": [
    {
     "name": "stdout",
     "output_type": "stream",
     "text": [
      "782/782 [==============================] - 2s 2ms/step\n"
     ]
    },
    {
     "data": {
      "text/plain": [
       "array([[0.28869104],\n",
       "       [0.9995244 ],\n",
       "       [0.9530702 ],\n",
       "       ...,\n",
       "       [0.11716624],\n",
       "       [0.11392664],\n",
       "       [0.7548393 ]], dtype=float32)"
      ]
     },
     "execution_count": 43,
     "metadata": {},
     "output_type": "execute_result"
    }
   ],
   "source": [
    "model.predict(x_test)"
   ]
  },
  {
   "cell_type": "markdown",
   "id": "45246186",
   "metadata": {},
   "source": [
    "### 1.11 Further experiments\n",
    "1. Try different hidden layers\n",
    "2. Use logistic regression on the same dataset\n",
    "3. Try different loss function \n",
    "4. Try using different activation function\n"
   ]
  },
  {
   "cell_type": "code",
   "execution_count": null,
   "id": "ad8dedcb",
   "metadata": {},
   "outputs": [],
   "source": []
  }
 ],
 "metadata": {
  "kernelspec": {
   "display_name": "Python 3 (ipykernel)",
   "language": "python",
   "name": "python3"
  },
  "language_info": {
   "codemirror_mode": {
    "name": "ipython",
    "version": 3
   },
   "file_extension": ".py",
   "mimetype": "text/x-python",
   "name": "python",
   "nbconvert_exporter": "python",
   "pygments_lexer": "ipython3",
   "version": "3.9.15"
  }
 },
 "nbformat": 4,
 "nbformat_minor": 5
}
