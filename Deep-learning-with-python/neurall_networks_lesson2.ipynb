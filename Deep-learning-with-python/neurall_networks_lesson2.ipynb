{
 "cells": [
  {
   "cell_type": "markdown",
   "id": "a8a81460",
   "metadata": {},
   "source": [
    "# Getting Started with Neural Networks\n"
   ]
  },
  {
   "cell_type": "markdown",
   "id": "f2ac3863",
   "metadata": {},
   "source": [
    "## 2.1 Anatomy of Neural Networks\n",
    "\n",
    "Training a neural network resolves around the following:\n",
    "* *Layers*, which are combined into a network (or model)\n",
    "* The *input data* and corresponding targets\n",
    "* The *loss function*, which defines the feedback signal used for learning\n",
    "* The *optimizer*, which determines how learning proceeds\n",
    "\n",
    "### 2.1.1 Layers: the building blocks of NN\n",
    "\n",
    "A layer is a data-processing module that takes as input one or more tensors and that outputs one or more tensors. Different layers are appropriate for different tensor formats and different types of data\n",
    "processing. \n",
    "\n",
    "For instance, simple vector data, stored in 2D tensors of shape *(samples, features)*, is often processed by *densely connected layers*.\n",
    "\n",
    "Sequence data, stored in 3D tensors of shape *(samples,timesteps, features)*, is typically processed by *recurrent* layers such as an *LSTM layer*.\n",
    "\n",
    "Image data, stored in 4D tensors, is usually processed by *2D convolution* layers (Conv2D).\n",
    "\n",
    "```\n",
    "from keras import layers\n",
    "layer = layers.Dense(32, input_shape=(784,))\n",
    "```\n",
    "We’re creating a layer that will only accept as input 2D tensors where the first dimension is 784 (axis 0, the batch dimension, is unspecified, and thus any value would be accepted). This layer will return a tensor where the first dimension has been transformed to be 32.\n",
    "\n",
    "### 2.1.2 Models: network of layers\n",
    "\n",
    "A deep-learning model is a directed, acyclic graph of layers. The most common\n",
    "instance is a linear stack of layers, mapping a single input to a single output.\n",
    "\n",
    "### 2.1.3 Loss functions and optimizers: keys to configuring the learning process.\n",
    "Once the network architecture is defined, you still have to choose two more things:\n",
    "* Loss function (objective function)—The quantity that will be minimized during training. It represents a measure of success for the task at hand. Choosing the right objective function is extremely important.\n",
    "* Optimizer—Determines how the network will be updated based on the loss function.It implements a specific variant of stochastic gradient descent (SGD).\n"
   ]
  },
  {
   "cell_type": "markdown",
   "id": "ca1ba3ff",
   "metadata": {},
   "source": [
    "## 3.2 Introduction to Keras:\n",
    "\n",
    "Keras is a framework in python for defining and training any kind of deep-learning model. It is model-level library\n",
    "\n",
    "### 3.2.2 Developing with Keras: a quick overview\n",
    "\n",
    "A typical Keras workflow consist of the following\"\n",
    "* Defining your training data: input tensors and output tensor\n",
    "* Defining a network of layers that maps your inputs to your target.\n",
    "* Configure the learning processing by choosing a loss function, an optimizer and some metric to monitor.\n",
    "* Interate on your training data by calling `fit()` method of your model. \n",
    "\n",
    "There two ways to define a model in Keras. \n",
    "\n",
    "**Sequintial(only for linear stack layers)**\n",
    "```\n",
    "from keras import models\n",
    "from keras import layers\n",
    "\n",
    "model = models.Sequential()\n",
    "model.add(layers.Dense(32, activation='relu', input_shape=(784,)))\n",
    "model.add(layers.Dense(10, activation='softmax'))\n",
    "```\n",
    "**Functional API (build arbitrary architectures)**\n",
    "```\n",
    "input_tensor = layers.Input(shape=(784,))\n",
    "x = layers.Dense(32, activation='relu')(input_tensor)\n",
    "output_tensor = layers.Dense(10, activation='softmax')(x)\n",
    "model = models.Model(inputs=input_tensor, outputs=output_tensor)\n",
    "```\n",
    "\n",
    "**The learning process**\n",
    "```\n",
    "from keras import optimizers\n",
    "\n",
    "model.compile(optimizer=optimizers.RMSprop(lr=0.001),\n",
    "loss='mse',\n",
    "metrics=['accuracy'])\n",
    "```\n",
    "**Iterating over the training data by calling fit()**\n",
    "```\n",
    "model.fit(input_tensor, target_tensor, batch_size=128, epochs=10)\n",
    "```\n",
    "\n"
   ]
  },
  {
   "cell_type": "code",
   "execution_count": null,
   "id": "9578ce69",
   "metadata": {},
   "outputs": [],
   "source": []
  }
 ],
 "metadata": {
  "kernelspec": {
   "display_name": "Python 3 (ipykernel)",
   "language": "python",
   "name": "python3"
  },
  "language_info": {
   "codemirror_mode": {
    "name": "ipython",
    "version": 3
   },
   "file_extension": ".py",
   "mimetype": "text/x-python",
   "name": "python",
   "nbconvert_exporter": "python",
   "pygments_lexer": "ipython3",
   "version": "3.9.15"
  }
 },
 "nbformat": 4,
 "nbformat_minor": 5
}
