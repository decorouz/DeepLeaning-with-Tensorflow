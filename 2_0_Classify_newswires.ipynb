{
  "nbformat": 4,
  "nbformat_minor": 0,
  "metadata": {
    "colab": {
      "provenance": [],
      "authorship_tag": "ABX9TyOHUNY/znQdRxJHyBzwYSKJ",
      "include_colab_link": true
    },
    "kernelspec": {
      "name": "python3",
      "display_name": "Python 3"
    },
    "language_info": {
      "name": "python"
    },
    "accelerator": "GPU",
    "gpuClass": "standard"
  },
  "cells": [
    {
      "cell_type": "markdown",
      "metadata": {
        "id": "view-in-github",
        "colab_type": "text"
      },
      "source": [
        "<a href=\"https://colab.research.google.com/github/decorouz/DeepLeaning-with-Tensorflow/blob/main/2_0_Classify_newswires.ipynb\" target=\"_parent\"><img src=\"https://colab.research.google.com/assets/colab-badge.svg\" alt=\"Open In Colab\"/></a>"
      ]
    },
    {
      "cell_type": "markdown",
      "source": [
        "#2.0 Classifying Newswires: a multiclass classification example.\n",
        "\n",
        "In this notebook I practice to build a network to classify Reuters newswires into 46 mutually exclusive topics. Because there are many classes, this problem is an instance of *multiclass classification*; and because each data point should be classified into only one category, the problem is more specifically an instance of *single-label*, *multiclass classification*."
      ],
      "metadata": {
        "id": "_eiRe2ob7nz-"
      }
    },
    {
      "cell_type": "markdown",
      "source": [
        "### 2.1 The Reuters Dataset:\n",
        "A simple and widely used toy dataset for text classification. \n",
        "There are 46 different topics. Each topic has at least 10 examples in the training set."
      ],
      "metadata": {
        "id": "cPwd-N8DupXl"
      }
    },
    {
      "cell_type": "markdown",
      "source": [
        "#### 2.11 Loading the Reuters dataset"
      ],
      "metadata": {
        "id": "OIbYWTe78jVs"
      }
    },
    {
      "cell_type": "code",
      "source": [
        "from keras.datasets import reuters\n",
        "\n",
        "(train_data, train_labels), (test_data, test_labels) = reuters.load_data(num_words=10000)"
      ],
      "metadata": {
        "colab": {
          "base_uri": "https://localhost:8080/"
        },
        "id": "LGjulQlz9xFe",
        "outputId": "db5454aa-4b34-4a93-8ce0-c1727ca5018b"
      },
      "execution_count": 1,
      "outputs": [
        {
          "output_type": "stream",
          "name": "stdout",
          "text": [
            "Downloading data from https://storage.googleapis.com/tensorflow/tf-keras-datasets/reuters.npz\n",
            "2110848/2110848 [==============================] - 1s 1us/step\n"
          ]
        }
      ]
    },
    {
      "cell_type": "markdown",
      "source": [
        "The argument `num_numbers` restricts the data to the 10,000 most frequently occuring word found in the data"
      ],
      "metadata": {
        "id": "J4pCZIv6-TaQ"
      }
    },
    {
      "cell_type": "code",
      "source": [
        "# Explore the data\n",
        "print(f\"The total number of training example is {len(train_data)}\")\n",
        "print(f\"The total number of testing examples is {len(test_data)}\")\n"
      ],
      "metadata": {
        "colab": {
          "base_uri": "https://localhost:8080/"
        },
        "id": "cBOW_YJd-jnV",
        "outputId": "7f414e56-4dbf-4a69-a9f3-8dd75aefcbad"
      },
      "execution_count": 2,
      "outputs": [
        {
          "output_type": "stream",
          "name": "stdout",
          "text": [
            "The total number of training example is 8982\n",
            "The total number of testing examples is 2246\n"
          ]
        }
      ]
    },
    {
      "cell_type": "code",
      "source": [
        "print(len(train_data[0]))\n",
        "print(train_labels[2000])\n",
        "\n",
        "train_data[0:1]\n"
      ],
      "metadata": {
        "colab": {
          "base_uri": "https://localhost:8080/"
        },
        "id": "LeJemSXF-2ht",
        "outputId": "1528e015-9c42-4c43-a330-6ad6e383e9a8"
      },
      "execution_count": 3,
      "outputs": [
        {
          "output_type": "stream",
          "name": "stdout",
          "text": [
            "87\n",
            "3\n"
          ]
        },
        {
          "output_type": "execute_result",
          "data": {
            "text/plain": [
              "array([list([1, 2, 2, 8, 43, 10, 447, 5, 25, 207, 270, 5, 3095, 111, 16, 369, 186, 90, 67, 7, 89, 5, 19, 102, 6, 19, 124, 15, 90, 67, 84, 22, 482, 26, 7, 48, 4, 49, 8, 864, 39, 209, 154, 6, 151, 6, 83, 11, 15, 22, 155, 11, 15, 7, 48, 9, 4579, 1005, 504, 6, 258, 6, 272, 11, 15, 22, 134, 44, 11, 15, 16, 8, 197, 1245, 90, 67, 52, 29, 209, 30, 32, 132, 6, 109, 15, 17, 12])],\n",
              "      dtype=object)"
            ]
          },
          "metadata": {},
          "execution_count": 3
        }
      ]
    },
    {
      "cell_type": "code",
      "source": [
        "train_labels[0]\n"
      ],
      "metadata": {
        "colab": {
          "base_uri": "https://localhost:8080/"
        },
        "id": "Isj-44KLHokx",
        "outputId": "21fd7ae3-96f2-4f7b-dbce-a425b510d094"
      },
      "execution_count": 4,
      "outputs": [
        {
          "output_type": "execute_result",
          "data": {
            "text/plain": [
              "3"
            ]
          },
          "metadata": {},
          "execution_count": 4
        }
      ]
    },
    {
      "cell_type": "code",
      "source": [
        "# Decoding newswires back to test\n",
        "word_index = reuters.get_word_index()\n",
        "reverse_index =dict([(value, key) for key, value in word_index.items()])\n",
        "decoded_newswire = \" \".join([reverse_index.get(i - 3, \"?\") for i in train_data[0]])\n",
        "decoded_newswire\n"
      ],
      "metadata": {
        "colab": {
          "base_uri": "https://localhost:8080/",
          "height": 126
        },
        "id": "4wq3Q53S_iT7",
        "outputId": "398637b5-317d-4acf-8155-4db42351e7bc"
      },
      "execution_count": 5,
      "outputs": [
        {
          "output_type": "stream",
          "name": "stdout",
          "text": [
            "Downloading data from https://storage.googleapis.com/tensorflow/tf-keras-datasets/reuters_word_index.json\n",
            "550378/550378 [==============================] - 1s 1us/step\n"
          ]
        },
        {
          "output_type": "execute_result",
          "data": {
            "text/plain": [
              "'? ? ? said as a result of its december acquisition of space co it expects earnings per share in 1987 of 1 15 to 1 30 dlrs per share up from 70 cts in 1986 the company said pretax net should rise to nine to 10 mln dlrs from six mln dlrs in 1986 and rental operation revenues to 19 to 22 mln dlrs from 12 5 mln dlrs it said cash flow per share this year should be 2 50 to three dlrs reuter 3'"
            ],
            "application/vnd.google.colaboratory.intrinsic+json": {
              "type": "string"
            }
          },
          "metadata": {},
          "execution_count": 5
        }
      ]
    },
    {
      "cell_type": "markdown",
      "source": [
        "#### 2.12 Preparing the data\n",
        "Convert the data from list of intergers to tensor of integers\n"
      ],
      "metadata": {
        "id": "AaOqsSjf_RR9"
      }
    },
    {
      "cell_type": "code",
      "source": [
        "# Encoding the training data\n",
        "import numpy as np\n",
        "\n",
        "def vectorize_sequence(sequences, dimension=10000):\n",
        "  results = np.zeros((len(sequences), dimension))\n",
        "  for i, sequence in enumerate(sequences):\n",
        "    results[i, sequence] = 1.\n",
        "  return results\n",
        "\n",
        "x_train = vectorize_sequence(train_data)\n",
        "x_test= vectorize_sequence(test_data)"
      ],
      "metadata": {
        "id": "TRjkV1gn_Y3w"
      },
      "execution_count": 21,
      "outputs": []
    },
    {
      "cell_type": "code",
      "source": [
        "\n",
        "x_test[0]"
      ],
      "metadata": {
        "colab": {
          "base_uri": "https://localhost:8080/"
        },
        "id": "MrG_x7t2ZuS-",
        "outputId": "97c902fc-b6e3-4436-e852-04c05099a6c7"
      },
      "execution_count": 40,
      "outputs": [
        {
          "output_type": "execute_result",
          "data": {
            "text/plain": [
              "array([0., 1., 1., ..., 0., 0., 0.])"
            ]
          },
          "metadata": {},
          "execution_count": 40
        }
      ]
    },
    {
      "cell_type": "code",
      "source": [
        "# Encoding the training labels\n",
        "def to_one_hot(labels, dimension=46):\n",
        "  results = np.zeros((len(labels), dimension))\n",
        "  for i, label in enumerate(labels):\n",
        "    results[i, label] = 1.\n",
        "  return results\n",
        "\n",
        "one_hot_train_labels = to_one_hot(train_labels)\n",
        "one_hot_test_labels = to_one_hot(test_labels)"
      ],
      "metadata": {
        "id": "LS3jq55AD4Wi"
      },
      "execution_count": 7,
      "outputs": []
    },
    {
      "cell_type": "code",
      "source": [
        "\n",
        "print(f\"The shape of the one hot training labels is {one_hot_train_labels.shape}\")\n",
        "print(f\"The label of the first train label is {train_labels[2000]}\")\n",
        "one_hot_train_labels[2000]"
      ],
      "metadata": {
        "colab": {
          "base_uri": "https://localhost:8080/"
        },
        "id": "ThofDX8DEckl",
        "outputId": "e876f650-43a6-46cd-c731-a8c1ccdcda9d"
      },
      "execution_count": 8,
      "outputs": [
        {
          "output_type": "stream",
          "name": "stdout",
          "text": [
            "The shape of the one hot training labels is (8982, 46)\n",
            "The label of the first train label is 3\n"
          ]
        },
        {
          "output_type": "execute_result",
          "data": {
            "text/plain": [
              "array([0., 0., 0., 1., 0., 0., 0., 0., 0., 0., 0., 0., 0., 0., 0., 0., 0.,\n",
              "       0., 0., 0., 0., 0., 0., 0., 0., 0., 0., 0., 0., 0., 0., 0., 0., 0.,\n",
              "       0., 0., 0., 0., 0., 0., 0., 0., 0., 0., 0., 0.])"
            ]
          },
          "metadata": {},
          "execution_count": 8
        }
      ]
    },
    {
      "cell_type": "markdown",
      "source": [
        "#### 2.13 Building the Network\n",
        "\n",
        "The number of output class for the model is 46. \n",
        "In other to avoid the information bottlenecks; that is where a layerd drops a vital information necessary for the classification problem, we will pick a 64-dimensional layer."
      ],
      "metadata": {
        "id": "TTwfV7XAGIu1"
      }
    },
    {
      "cell_type": "code",
      "source": [
        "# Define the model\n",
        "from keras import models\n",
        "from keras import layers \n",
        "\n",
        "model = models.Sequential()\n",
        "model.add(layers.Dense(64, activation=\"relu\", input_shape=(10000,)))\n",
        "model.add(layers.Dense(64, activation=\"relu\"))\n",
        "model.add(layers.Dense(46, activation=\"softmax\"))"
      ],
      "metadata": {
        "id": "Khu2gN22L2ZV"
      },
      "execution_count": 9,
      "outputs": []
    },
    {
      "cell_type": "code",
      "source": [
        "# Compiling the model\n",
        "model.compile(optimizer=\"rmsprop\",\n",
        "              loss=\"categorical_crossentropy\",\n",
        "              metrics=[\"accuracy\"])"
      ],
      "metadata": {
        "id": "9_AIZqcUMYNH"
      },
      "execution_count": 10,
      "outputs": []
    },
    {
      "cell_type": "markdown",
      "source": [
        "#### 2.14 Validation Approach\n",
        "Let's set apart 1,000 samples in the training data to use as a validation set."
      ],
      "metadata": {
        "id": "dFZZFBafMwPx"
      }
    },
    {
      "cell_type": "code",
      "source": [
        "x_val = x_train[:1000]\n",
        "partial_x_train = x_train[1000:]\n",
        "\n",
        "y_val = one_hot_train_labels[:1000]\n",
        "partial_y_train = one_hot_train_labels[1000:]"
      ],
      "metadata": {
        "id": "CcyfYxeYNB2V"
      },
      "execution_count": 11,
      "outputs": []
    },
    {
      "cell_type": "code",
      "source": [
        "# Training the model for 20 Epochs\n",
        "history = model.fit(partial_x_train,\n",
        "                    partial_y_train,\n",
        "                    epochs=20,\n",
        "                    batch_size=512,\n",
        "                    validation_data=(x_val, y_val))"
      ],
      "metadata": {
        "colab": {
          "base_uri": "https://localhost:8080/"
        },
        "id": "B1RDIDTmNfUY",
        "outputId": "88ef6c95-5e62-4c3d-89d7-9447d64a5a8e"
      },
      "execution_count": 12,
      "outputs": [
        {
          "output_type": "stream",
          "name": "stdout",
          "text": [
            "Epoch 1/20\n",
            "16/16 [==============================] - 3s 28ms/step - loss: 2.4919 - accuracy: 0.5361 - val_loss: 1.6839 - val_accuracy: 0.6400\n",
            "Epoch 2/20\n",
            "16/16 [==============================] - 0s 15ms/step - loss: 1.4017 - accuracy: 0.6978 - val_loss: 1.3091 - val_accuracy: 0.7170\n",
            "Epoch 3/20\n",
            "16/16 [==============================] - 0s 15ms/step - loss: 1.0549 - accuracy: 0.7794 - val_loss: 1.1478 - val_accuracy: 0.7430\n",
            "Epoch 4/20\n",
            "16/16 [==============================] - 0s 15ms/step - loss: 0.8420 - accuracy: 0.8217 - val_loss: 1.0387 - val_accuracy: 0.7850\n",
            "Epoch 5/20\n",
            "16/16 [==============================] - 0s 17ms/step - loss: 0.6759 - accuracy: 0.8542 - val_loss: 0.9732 - val_accuracy: 0.7860\n",
            "Epoch 6/20\n",
            "16/16 [==============================] - 0s 15ms/step - loss: 0.5448 - accuracy: 0.8834 - val_loss: 0.9336 - val_accuracy: 0.7970\n",
            "Epoch 7/20\n",
            "16/16 [==============================] - 0s 16ms/step - loss: 0.4431 - accuracy: 0.9093 - val_loss: 0.9166 - val_accuracy: 0.8050\n",
            "Epoch 8/20\n",
            "16/16 [==============================] - 0s 16ms/step - loss: 0.3571 - accuracy: 0.9270 - val_loss: 0.8889 - val_accuracy: 0.8090\n",
            "Epoch 9/20\n",
            "16/16 [==============================] - 0s 15ms/step - loss: 0.2990 - accuracy: 0.9371 - val_loss: 0.9114 - val_accuracy: 0.8100\n",
            "Epoch 10/20\n",
            "16/16 [==============================] - 0s 15ms/step - loss: 0.2464 - accuracy: 0.9449 - val_loss: 0.8916 - val_accuracy: 0.8160\n",
            "Epoch 11/20\n",
            "16/16 [==============================] - 0s 16ms/step - loss: 0.2146 - accuracy: 0.9483 - val_loss: 0.9120 - val_accuracy: 0.8080\n",
            "Epoch 12/20\n",
            "16/16 [==============================] - 0s 23ms/step - loss: 0.1897 - accuracy: 0.9506 - val_loss: 0.9233 - val_accuracy: 0.8130\n",
            "Epoch 13/20\n",
            "16/16 [==============================] - 0s 24ms/step - loss: 0.1693 - accuracy: 0.9524 - val_loss: 0.9670 - val_accuracy: 0.8020\n",
            "Epoch 14/20\n",
            "16/16 [==============================] - 0s 18ms/step - loss: 0.1535 - accuracy: 0.9539 - val_loss: 0.9552 - val_accuracy: 0.8130\n",
            "Epoch 15/20\n",
            "16/16 [==============================] - 0s 17ms/step - loss: 0.1410 - accuracy: 0.9540 - val_loss: 0.9610 - val_accuracy: 0.8100\n",
            "Epoch 16/20\n",
            "16/16 [==============================] - 0s 27ms/step - loss: 0.1335 - accuracy: 0.9564 - val_loss: 1.0253 - val_accuracy: 0.8070\n",
            "Epoch 17/20\n",
            "16/16 [==============================] - 0s 20ms/step - loss: 0.1238 - accuracy: 0.9562 - val_loss: 1.0466 - val_accuracy: 0.8050\n",
            "Epoch 18/20\n",
            "16/16 [==============================] - 0s 15ms/step - loss: 0.1225 - accuracy: 0.9562 - val_loss: 1.0658 - val_accuracy: 0.8090\n",
            "Epoch 19/20\n",
            "16/16 [==============================] - 0s 22ms/step - loss: 0.1157 - accuracy: 0.9570 - val_loss: 1.0584 - val_accuracy: 0.8080\n",
            "Epoch 20/20\n",
            "16/16 [==============================] - 0s 24ms/step - loss: 0.1123 - accuracy: 0.9588 - val_loss: 1.0687 - val_accuracy: 0.8030\n"
          ]
        }
      ]
    },
    {
      "cell_type": "code",
      "source": [
        "# Plotting the training and validation loss\n",
        "import matplotlib.pyplot as plt\n",
        "\n",
        "loss = history.history[\"loss\"]\n",
        "val_loss = history.history[\"val_loss\"]\n",
        "\n",
        "epochs = range(1, len(loss)+1)\n",
        "\n",
        "plt.plot(epochs, loss, \"bo\", label=\"Training loss\")\n",
        "plt.plot(epochs, val_loss, \"b\", label=\"Validation loss\")\n",
        "plt.title(\"Training and validation loss\")\n",
        "plt.xlabel(\"Epochs\")\n",
        "plt.ylabel(\"Loss\")\n",
        "plt.legend()\n",
        "plt.show()"
      ],
      "metadata": {
        "colab": {
          "base_uri": "https://localhost:8080/",
          "height": 295
        },
        "id": "P4JnZCVAQZiM",
        "outputId": "1256d86f-238b-4021-97fa-5dc46df329f0"
      },
      "execution_count": 17,
      "outputs": [
        {
          "output_type": "display_data",
          "data": {
            "text/plain": [
              "<Figure size 432x288 with 1 Axes>"
            ],
            "image/png": "[encoded data removed]"
          },
          "metadata": {
            "needs_background": "light"
          }
        }
      ]
    },
    {
      "cell_type": "code",
      "source": [
        "# Plotting the training and validation accuracy\n",
        "# Plotting the training and validation loss\n",
        "plt.clf()\n",
        "acc = history.history[\"accuracy\"]\n",
        "val_acc = history.history[\"val_accuracy\"]\n",
        "\n",
        "epochs = range(1, len(acc)+1)\n",
        "\n",
        "plt.plot(epochs, acc, \"bo\", label=\"Training accuracy\")\n",
        "plt.plot(epochs, val_acc, \"b\", label=\"Validation accuracy\")\n",
        "plt.title(\"Training and validation accuracy\")\n",
        "plt.xlabel(\"Epochs\")\n",
        "plt.ylabel(\"Accuracy\")\n",
        "plt.legend()\n",
        "plt.show()"
      ],
      "metadata": {
        "colab": {
          "base_uri": "https://localhost:8080/",
          "height": 295
        },
        "id": "ZkEwHRnySJJf",
        "outputId": "6b6c231d-7d05-4f51-b192-a20dbb236ef3"
      },
      "execution_count": 19,
      "outputs": [
        {
          "output_type": "display_data",
          "data": {
            "text/plain": [
              "<Figure size 432x288 with 1 Axes>"
            ],
            "image/png": "[encoded data removed]"
          },
          "metadata": {
            "needs_background": "light"
          }
        }
      ]
    },
    {
      "cell_type": "markdown",
      "source": [
        "The network begin to overfit after the nine epochs. Let's train a new network from scratch for nine epoch and the evaluate it on the test set"
      ],
      "metadata": {
        "id": "XHnBKFiJStWO"
      }
    },
    {
      "cell_type": "markdown",
      "source": [
        "#### 2.15 Retraining a model from scratch"
      ],
      "metadata": {
        "id": "G8iaLU0RUKzZ"
      }
    },
    {
      "cell_type": "code",
      "source": [
        "\n",
        "model = models.Sequential()\n",
        "model.add(layers.Dense(64, activation=\"relu\", input_shape=(10000,)))\n",
        "model.add(layers.Dense(64, activation=\"relu\"))\n",
        "model.add(layers.Dense(46, activation=\"softmax\"))\n",
        "\n",
        "\n",
        "model.compile(optimizer=\"rmsprop\",\n",
        "              loss=\"categorical_crossentropy\",\n",
        "              metrics=[\"accuracy\"])\n",
        "\n",
        "model.fit(partial_x_train,\n",
        "          partial_y_train,\n",
        "          epochs=9,\n",
        "          batch_size=512,\n",
        "          validation_data=(x_val, y_val))\n",
        "\n",
        "results = model.evaluate(x_test, one_hot_test_labels)\n"
      ],
      "metadata": {
        "colab": {
          "base_uri": "https://localhost:8080/"
        },
        "id": "3tpOxaBmSkv8",
        "outputId": "95953cc2-877c-45f6-a3fa-1b96adcfe7ff"
      },
      "execution_count": 28,
      "outputs": [
        {
          "output_type": "stream",
          "name": "stdout",
          "text": [
            "Epoch 1/9\n",
            "16/16 [==============================] - 1s 27ms/step - loss: 2.6938 - accuracy: 0.5258 - val_loss: 1.7434 - val_accuracy: 0.6510\n",
            "Epoch 2/9\n",
            "16/16 [==============================] - 0s 16ms/step - loss: 1.4234 - accuracy: 0.7027 - val_loss: 1.3298 - val_accuracy: 0.7130\n",
            "Epoch 3/9\n",
            "16/16 [==============================] - 0s 16ms/step - loss: 1.0565 - accuracy: 0.7717 - val_loss: 1.1603 - val_accuracy: 0.7560\n",
            "Epoch 4/9\n",
            "16/16 [==============================] - 0s 16ms/step - loss: 0.8367 - accuracy: 0.8224 - val_loss: 1.0431 - val_accuracy: 0.7730\n",
            "Epoch 5/9\n",
            "16/16 [==============================] - 0s 16ms/step - loss: 0.6711 - accuracy: 0.8603 - val_loss: 0.9936 - val_accuracy: 0.7920\n",
            "Epoch 6/9\n",
            "16/16 [==============================] - 0s 16ms/step - loss: 0.5442 - accuracy: 0.8875 - val_loss: 0.9181 - val_accuracy: 0.8220\n",
            "Epoch 7/9\n",
            "16/16 [==============================] - 0s 15ms/step - loss: 0.4438 - accuracy: 0.9118 - val_loss: 0.8992 - val_accuracy: 0.8190\n",
            "Epoch 8/9\n",
            "16/16 [==============================] - 0s 19ms/step - loss: 0.3623 - accuracy: 0.9233 - val_loss: 0.8938 - val_accuracy: 0.8170\n",
            "Epoch 9/9\n",
            "16/16 [==============================] - 0s 14ms/step - loss: 0.2995 - accuracy: 0.9349 - val_loss: 0.8936 - val_accuracy: 0.8170\n",
            "71/71 [==============================] - 0s 3ms/step - loss: 0.9869 - accuracy: 0.7845\n"
          ]
        }
      ]
    },
    {
      "cell_type": "code",
      "source": [
        "results"
      ],
      "metadata": {
        "colab": {
          "base_uri": "https://localhost:8080/"
        },
        "id": "t69kLT9YYqc6",
        "outputId": "08c1e3eb-e652-45ea-e2cb-f5c8a7bb2f81"
      },
      "execution_count": 29,
      "outputs": [
        {
          "output_type": "execute_result",
          "data": {
            "text/plain": [
              "[0.9868868589401245, 0.7845057845115662]"
            ]
          },
          "metadata": {},
          "execution_count": 29
        }
      ]
    },
    {
      "cell_type": "markdown",
      "source": [
        "This approach reaches an accuracyof ~79%. "
      ],
      "metadata": {
        "id": "Q73-zeapaPvf"
      }
    },
    {
      "cell_type": "markdown",
      "source": [
        "#### 2.16 Generating predictions on new data\n"
      ],
      "metadata": {
        "id": "5MT4mex1UU3y"
      }
    },
    {
      "cell_type": "code",
      "source": [
        "predictions = model.predict(x_test)\n",
        "\n",
        "# Each entry in predictions is a vector of length 46\n",
        "predictions[0].shape\n",
        "\n",
        "# The coefficients in this vector sum to 1:\n",
        "np.sum(predictions[0])\n",
        "\n",
        "\n",
        "# The largest entry if the predicted class -- the clas with highest probabilty\n",
        "np.argmax(predictions[1])\n"
      ],
      "metadata": {
        "colab": {
          "base_uri": "https://localhost:8080/"
        },
        "id": "Pok86RviUcko",
        "outputId": "e6d72e8c-59b7-4b49-b55a-fafa6147de39"
      },
      "execution_count": 31,
      "outputs": [
        {
          "output_type": "stream",
          "name": "stdout",
          "text": [
            "71/71 [==============================] - 0s 4ms/step\n"
          ]
        },
        {
          "output_type": "execute_result",
          "data": {
            "text/plain": [
              "10"
            ]
          },
          "metadata": {},
          "execution_count": 31
        }
      ]
    },
    {
      "cell_type": "markdown",
      "source": [
        "#### 2.17 Further Experiments\n",
        "* Try using larger or smaller layers: 32 units and 128 units\n",
        "* Try a single hidden layer or threee"
      ],
      "metadata": {
        "id": "4AtjZLCkYWrZ"
      }
    },
    {
      "cell_type": "code",
      "source": [
        "# 32 units\n",
        "model = models.Sequential()\n",
        "model.add(layers.Dense(128, activation=\"relu\", input_shape=(10000,)))\n",
        "model.add(layers.Dense(128, activation=\"relu\"))\n",
        "model.add(layers.Dense(46, activation=\"softmax\"))\n",
        "\n",
        "\n",
        "model.compile(optimizer=\"rmsprop\",\n",
        "              loss=\"categorical_crossentropy\",\n",
        "              metrics=[\"accuracy\"])\n",
        "\n",
        "history = model.fit(partial_x_train,\n",
        "                    partial_y_train,\n",
        "                    epochs=20,\n",
        "                    batch_size=512,\n",
        "                    validation_data=(x_val, y_val))\n",
        "\n",
        "loss = history.history[\"loss\"]\n",
        "val_loss = history.history[\"val_loss\"]\n",
        "\n",
        "epochs = range(1, len(loss)+1)\n",
        "\n",
        "plt.plot(epochs, loss, \"bo\", label=\"Training loss\")\n",
        "plt.plot(epochs, val_loss, \"b\", label=\"Validation loss\")\n",
        "plt.title(\"Training and validation loss\")\n",
        "plt.xlabel(\"Epochs\")\n",
        "plt.ylabel(\"Loss\")\n",
        "plt.legend()\n",
        "plt.show()\n",
        "\n",
        "# Plotting the training and validation accuracy\n",
        "# Plotting the training and validation loss\n",
        "plt.clf()\n",
        "acc = history.history[\"accuracy\"]\n",
        "val_acc = history.history[\"val_accuracy\"]\n",
        "\n",
        "epochs = range(1, len(acc)+1)\n",
        "\n",
        "plt.plot(epochs, acc, \"bo\", label=\"Training accuracy\")\n",
        "plt.plot(epochs, val_acc, \"b\", label=\"Validation accuracy\")\n",
        "plt.title(\"Training and validation accuracy\")\n",
        "plt.xlabel(\"Epochs\")\n",
        "plt.ylabel(\"Accuracy\")\n",
        "plt.legend()\n",
        "plt.show()\n"
      ],
      "metadata": {
        "colab": {
          "base_uri": "https://localhost:8080/",
          "height": 1000
        },
        "id": "L6gjf2HXbaCd",
        "outputId": "06b7ed12-179b-4f3e-d35b-59d124441da9"
      },
      "execution_count": 48,
      "outputs": [
        {
          "output_type": "stream",
          "name": "stdout",
          "text": [
            "Epoch 1/20\n",
            "16/16 [==============================] - 1s 28ms/step - loss: 2.2137 - accuracy: 0.5710 - val_loss: 1.3995 - val_accuracy: 0.6800\n",
            "Epoch 2/20\n",
            "16/16 [==============================] - 0s 18ms/step - loss: 1.1201 - accuracy: 0.7509 - val_loss: 1.1364 - val_accuracy: 0.7550\n",
            "Epoch 3/20\n",
            "16/16 [==============================] - 0s 15ms/step - loss: 0.7838 - accuracy: 0.8326 - val_loss: 1.0038 - val_accuracy: 0.7880\n",
            "Epoch 4/20\n",
            "16/16 [==============================] - 0s 16ms/step - loss: 0.5670 - accuracy: 0.8810 - val_loss: 0.9136 - val_accuracy: 0.8100\n",
            "Epoch 5/20\n",
            "16/16 [==============================] - 0s 16ms/step - loss: 0.4209 - accuracy: 0.9142 - val_loss: 0.9114 - val_accuracy: 0.8110\n",
            "Epoch 6/20\n",
            "16/16 [==============================] - 0s 16ms/step - loss: 0.3207 - accuracy: 0.9300 - val_loss: 0.8792 - val_accuracy: 0.8290\n",
            "Epoch 7/20\n",
            "16/16 [==============================] - 0s 16ms/step - loss: 0.2448 - accuracy: 0.9432 - val_loss: 0.9663 - val_accuracy: 0.8010\n",
            "Epoch 8/20\n",
            "16/16 [==============================] - 0s 17ms/step - loss: 0.2100 - accuracy: 0.9471 - val_loss: 0.9210 - val_accuracy: 0.8240\n",
            "Epoch 9/20\n",
            "16/16 [==============================] - 0s 15ms/step - loss: 0.1807 - accuracy: 0.9508 - val_loss: 0.9345 - val_accuracy: 0.8060\n",
            "Epoch 10/20\n",
            "16/16 [==============================] - 0s 16ms/step - loss: 0.1635 - accuracy: 0.9530 - val_loss: 0.9936 - val_accuracy: 0.8090\n",
            "Epoch 11/20\n",
            "16/16 [==============================] - 0s 16ms/step - loss: 0.1504 - accuracy: 0.9553 - val_loss: 0.9952 - val_accuracy: 0.8060\n",
            "Epoch 12/20\n",
            "16/16 [==============================] - 0s 16ms/step - loss: 0.1385 - accuracy: 0.9553 - val_loss: 1.0631 - val_accuracy: 0.7970\n",
            "Epoch 13/20\n",
            "16/16 [==============================] - 0s 15ms/step - loss: 0.1334 - accuracy: 0.9557 - val_loss: 1.0301 - val_accuracy: 0.8080\n",
            "Epoch 14/20\n",
            "16/16 [==============================] - 0s 16ms/step - loss: 0.1266 - accuracy: 0.9574 - val_loss: 1.0877 - val_accuracy: 0.8010\n",
            "Epoch 15/20\n",
            "16/16 [==============================] - 0s 15ms/step - loss: 0.1225 - accuracy: 0.9584 - val_loss: 1.0331 - val_accuracy: 0.8230\n",
            "Epoch 16/20\n",
            "16/16 [==============================] - 0s 16ms/step - loss: 0.1183 - accuracy: 0.9572 - val_loss: 1.0684 - val_accuracy: 0.8070\n",
            "Epoch 17/20\n",
            "16/16 [==============================] - 0s 16ms/step - loss: 0.1143 - accuracy: 0.9585 - val_loss: 1.0347 - val_accuracy: 0.8080\n",
            "Epoch 18/20\n",
            "16/16 [==============================] - 0s 16ms/step - loss: 0.1102 - accuracy: 0.9574 - val_loss: 1.1324 - val_accuracy: 0.7910\n",
            "Epoch 19/20\n",
            "16/16 [==============================] - 0s 16ms/step - loss: 0.1052 - accuracy: 0.9579 - val_loss: 1.0859 - val_accuracy: 0.8080\n",
            "Epoch 20/20\n",
            "16/16 [==============================] - 0s 16ms/step - loss: 0.1057 - accuracy: 0.9582 - val_loss: 1.0994 - val_accuracy: 0.8030\n"
          ]
        },
        {
          "output_type": "display_data",
          "data": {
            "text/plain": [
              "<Figure size 432x288 with 1 Axes>"
            ],
            "image/png": "[encoded data removed]"
          },
          "metadata": {
            "needs_background": "light"
          }
        },
        {
          "output_type": "display_data",
          "data": {
            "text/plain": [
              "<Figure size 432x288 with 1 Axes>"
            ],
            "image/png": "[encoded data removed]"
          },
          "metadata": {
            "needs_background": "light"
          }
        }
      ]
    },
    {
      "cell_type": "code",
      "source": [
        "\n",
        "results = model.evaluate(x_test, one_hot_test_labels)"
      ],
      "metadata": {
        "colab": {
          "base_uri": "https://localhost:8080/"
        },
        "id": "6ZotdJcvbzcU",
        "outputId": "cfbea011-efed-4ca6-ebd9-9029c14a2e41"
      },
      "execution_count": 49,
      "outputs": [
        {
          "output_type": "stream",
          "name": "stdout",
          "text": [
            "71/71 [==============================] - 0s 3ms/step - loss: 1.3069 - accuracy: 0.7907\n"
          ]
        }
      ]
    },
    {
      "cell_type": "code",
      "source": [
        "predictions = model.predict(x_test)\n",
        "# The largest entry if the predicted class -- the clas with highest probabilty\n",
        "np.argmax(predictions[0])"
      ],
      "metadata": {
        "colab": {
          "base_uri": "https://localhost:8080/"
        },
        "id": "UKHi8upndHYb",
        "outputId": "394b6f4e-6cf7-4e07-84d0-1d4634d246b0"
      },
      "execution_count": 47,
      "outputs": [
        {
          "output_type": "stream",
          "name": "stdout",
          "text": [
            "71/71 [==============================] - 0s 2ms/step\n"
          ]
        },
        {
          "output_type": "execute_result",
          "data": {
            "text/plain": [
              "3"
            ]
          },
          "metadata": {},
          "execution_count": 47
        }
      ]
    }
  ]
}