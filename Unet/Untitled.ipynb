{
 "cells": [
  {
   "cell_type": "code",
   "execution_count": 17,
   "id": "fb7427e9",
   "metadata": {},
   "outputs": [],
   "source": [
    "import tensorflow as tf\n",
    "import os\n",
    "os.environ['TF_CPP_MIN_LOG_LEVEL'] = '1'"
   ]
  },
  {
   "cell_type": "markdown",
   "id": "667e90c5",
   "metadata": {},
   "source": [
    "### Load dataset and preprocessing for Unet"
   ]
  },
  {
   "cell_type": "code",
   "execution_count": 36,
   "id": "30aa1eb4",
   "metadata": {},
   "outputs": [
    {
     "name": "stdout",
     "output_type": "stream",
     "text": [
      "Requirement already satisfied: kaggle in /Users/user/opt/miniconda3/envs/tf/lib/python3.9/site-packages (1.5.12)\n",
      "Requirement already satisfied: python-slugify in /Users/user/opt/miniconda3/envs/tf/lib/python3.9/site-packages (from kaggle) (7.0.0)\n",
      "Requirement already satisfied: tqdm in /Users/user/opt/miniconda3/envs/tf/lib/python3.9/site-packages (from kaggle) (4.64.1)\n",
      "Requirement already satisfied: certifi in /Users/user/opt/miniconda3/envs/tf/lib/python3.9/site-packages (from kaggle) (2022.12.7)\n",
      "Requirement already satisfied: python-dateutil in /Users/user/opt/miniconda3/envs/tf/lib/python3.9/site-packages (from kaggle) (2.8.2)\n",
      "Requirement already satisfied: six>=1.10 in /Users/user/opt/miniconda3/envs/tf/lib/python3.9/site-packages (from kaggle) (1.16.0)\n",
      "Requirement already satisfied: urllib3 in /Users/user/opt/miniconda3/envs/tf/lib/python3.9/site-packages (from kaggle) (1.26.13)\n",
      "Requirement already satisfied: requests in /Users/user/opt/miniconda3/envs/tf/lib/python3.9/site-packages (from kaggle) (2.28.1)\n",
      "Requirement already satisfied: text-unidecode>=1.3 in /Users/user/opt/miniconda3/envs/tf/lib/python3.9/site-packages (from python-slugify->kaggle) (1.3)\n",
      "Requirement already satisfied: idna<4,>=2.5 in /Users/user/opt/miniconda3/envs/tf/lib/python3.9/site-packages (from requests->kaggle) (3.4)\n",
      "Requirement already satisfied: charset-normalizer<3,>=2 in /Users/user/opt/miniconda3/envs/tf/lib/python3.9/site-packages (from requests->kaggle) (2.1.1)\n",
      "Requirement already satisfied: opendatasets in /Users/user/opt/miniconda3/envs/tf/lib/python3.9/site-packages (0.1.22)\n",
      "Requirement already satisfied: tqdm in /Users/user/opt/miniconda3/envs/tf/lib/python3.9/site-packages (from opendatasets) (4.64.1)\n",
      "Requirement already satisfied: click in /Users/user/opt/miniconda3/envs/tf/lib/python3.9/site-packages (from opendatasets) (8.1.3)\n",
      "Requirement already satisfied: kaggle in /Users/user/opt/miniconda3/envs/tf/lib/python3.9/site-packages (from opendatasets) (1.5.12)\n",
      "Requirement already satisfied: requests in /Users/user/opt/miniconda3/envs/tf/lib/python3.9/site-packages (from kaggle->opendatasets) (2.28.1)\n",
      "Requirement already satisfied: python-slugify in /Users/user/opt/miniconda3/envs/tf/lib/python3.9/site-packages (from kaggle->opendatasets) (7.0.0)\n",
      "Requirement already satisfied: certifi in /Users/user/opt/miniconda3/envs/tf/lib/python3.9/site-packages (from kaggle->opendatasets) (2022.12.7)\n",
      "Requirement already satisfied: six>=1.10 in /Users/user/opt/miniconda3/envs/tf/lib/python3.9/site-packages (from kaggle->opendatasets) (1.16.0)\n",
      "Requirement already satisfied: urllib3 in /Users/user/opt/miniconda3/envs/tf/lib/python3.9/site-packages (from kaggle->opendatasets) (1.26.13)\n",
      "Requirement already satisfied: python-dateutil in /Users/user/opt/miniconda3/envs/tf/lib/python3.9/site-packages (from kaggle->opendatasets) (2.8.2)\n",
      "Requirement already satisfied: text-unidecode>=1.3 in /Users/user/opt/miniconda3/envs/tf/lib/python3.9/site-packages (from python-slugify->kaggle->opendatasets) (1.3)\n",
      "Requirement already satisfied: idna<4,>=2.5 in /Users/user/opt/miniconda3/envs/tf/lib/python3.9/site-packages (from requests->kaggle->opendatasets) (3.4)\n",
      "Requirement already satisfied: charset-normalizer<3,>=2 in /Users/user/opt/miniconda3/envs/tf/lib/python3.9/site-packages (from requests->kaggle->opendatasets) (2.1.1)\n"
     ]
    }
   ],
   "source": [
    "!pip install --user kaggle\n",
    "!pip install opendatasets"
   ]
  },
  {
   "cell_type": "code",
   "execution_count": 34,
   "id": "a16498f4",
   "metadata": {},
   "outputs": [
    {
     "name": "stderr",
     "output_type": "stream",
     "text": [
      "UsageError: Line magic function `%%file` not found.\n"
     ]
    }
   ],
   "source": [
    "!mkdir -p ~/.kaggle\n",
    "!chmod 600 ~/.kaggle/kaggle.json\n",
    "\n",
    "!kaggle competitions download -c data-science-bowl-2018\n"
   ]
  },
  {
   "cell_type": "code",
   "execution_count": 41,
   "id": "6720a8a3",
   "metadata": {},
   "outputs": [
    {
     "name": "stdout",
     "output_type": "stream",
     "text": [
      "Downloading data-science-bowl-2018.zip to /Users/user/Documents/Data-Science/DeepLeaning-with-Tensorflow/Unet\n",
      "100%|█████████████████████████████████████████| 358M/358M [06:34<00:00, 945kB/s]\n",
      "100%|█████████████████████████████████████████| 358M/358M [06:34<00:00, 952kB/s]\n"
     ]
    }
   ],
   "source": [
    "!kaggle competitions download -c data-science-bowl-2018\n"
   ]
  },
  {
   "cell_type": "code",
   "execution_count": null,
   "id": "09882e95",
   "metadata": {},
   "outputs": [],
   "source": [
    "#Download the dataset from kaggle\n",
    "# Unzip the files and save locally\n",
    "\n",
    "\n",
    "# Define the training and validation base directories\n",
    "TRAIN_PATH = 'stage1_train/'\n",
    "TEST_PATH = 'stage1_test/'\n",
    "\n",
    "def load_image(datapoint):\n",
    "    input_image = tf.image.resize(datapoint[\"images\"], (IMG_WIDTH, IMG_HEIGHT))\n",
    "    input_mask = tf.image.resize(datapoint[\"masks\"], (IMG_WIDTH, IMG_HEIGHT),\n",
    "                                method=tf.image.ResizeMethod.NEAREST_NEIGHBOR)\n",
    "    return input_image, input_mask"
   ]
  },
  {
   "cell_type": "code",
   "execution_count": 18,
   "id": "46852965",
   "metadata": {},
   "outputs": [],
   "source": [
    "IMG_WIDTH = 128\n",
    "IMG_HEIGHT = 128\n",
    "IMG_CHANNELS = 3\n",
    "\n",
    "\n"
   ]
  },
  {
   "cell_type": "code",
   "execution_count": 23,
   "id": "aa99f687",
   "metadata": {},
   "outputs": [],
   "source": [
    "# Build the model\n",
    "inputs = tf.keras.layers.Input(shape=[IMG_WIDTH, IMG_HEIGHT, IMG_CHANNELS])\n",
    "\n",
    "# Normalize the inputs\n",
    "def normalizer(inputs):\n",
    "    inputs = tf.cast(inputs, tf.float32) / 255.0\n",
    "    return inputs\n",
    "\n",
    "# Normalize alternative method\n",
    "norm_input = tf.keras.layers.Lambda(lambda x: x/ 255.0)(inputs)"
   ]
  },
  {
   "cell_type": "code",
   "execution_count": 25,
   "id": "d7b96e64",
   "metadata": {},
   "outputs": [
    {
     "name": "stdout",
     "output_type": "stream",
     "text": [
      "Model: \"model_1\"\n",
      "__________________________________________________________________________________________________\n",
      " Layer (type)                   Output Shape         Param #     Connected to                     \n",
      "==================================================================================================\n",
      " input_7 (InputLayer)           [(None, 128, 128, 3  0           []                               \n",
      "                                )]                                                                \n",
      "                                                                                                  \n",
      " lambda_4 (Lambda)              (None, 128, 128, 3)  0           ['input_7[0][0]']                \n",
      "                                                                                                  \n",
      " tf.cast_9 (TFOpLambda)         (None, 128, 128, 3)  0           ['lambda_4[0][0]']               \n",
      "                                                                                                  \n",
      " tf.math.truediv_9 (TFOpLambda)  (None, 128, 128, 3)  0          ['tf.cast_9[0][0]']              \n",
      "                                                                                                  \n",
      " conv2d_112 (Conv2D)            (None, 128, 128, 16  448         ['tf.math.truediv_9[0][0]']      \n",
      "                                )                                                                 \n",
      "                                                                                                  \n",
      " dropout_50 (Dropout)           (None, 128, 128, 16  0           ['conv2d_112[0][0]']             \n",
      "                                )                                                                 \n",
      "                                                                                                  \n",
      " conv2d_113 (Conv2D)            (None, 128, 128, 16  2320        ['dropout_50[0][0]']             \n",
      "                                )                                                                 \n",
      "                                                                                                  \n",
      " max_pooling2d_40 (MaxPooling2D  (None, 64, 64, 16)  0           ['conv2d_113[0][0]']             \n",
      " )                                                                                                \n",
      "                                                                                                  \n",
      " conv2d_114 (Conv2D)            (None, 64, 64, 32)   4640        ['max_pooling2d_40[0][0]']       \n",
      "                                                                                                  \n",
      " dropout_51 (Dropout)           (None, 64, 64, 32)   0           ['conv2d_114[0][0]']             \n",
      "                                                                                                  \n",
      " conv2d_115 (Conv2D)            (None, 64, 64, 32)   9248        ['dropout_51[0][0]']             \n",
      "                                                                                                  \n",
      " max_pooling2d_41 (MaxPooling2D  (None, 32, 32, 32)  0           ['conv2d_115[0][0]']             \n",
      " )                                                                                                \n",
      "                                                                                                  \n",
      " conv2d_116 (Conv2D)            (None, 32, 32, 64)   18496       ['max_pooling2d_41[0][0]']       \n",
      "                                                                                                  \n",
      " dropout_52 (Dropout)           (None, 32, 32, 64)   0           ['conv2d_116[0][0]']             \n",
      "                                                                                                  \n",
      " conv2d_117 (Conv2D)            (None, 32, 32, 64)   36928       ['dropout_52[0][0]']             \n",
      "                                                                                                  \n",
      " max_pooling2d_42 (MaxPooling2D  (None, 16, 16, 64)  0           ['conv2d_117[0][0]']             \n",
      " )                                                                                                \n",
      "                                                                                                  \n",
      " conv2d_118 (Conv2D)            (None, 16, 16, 128)  73856       ['max_pooling2d_42[0][0]']       \n",
      "                                                                                                  \n",
      " dropout_53 (Dropout)           (None, 16, 16, 128)  0           ['conv2d_118[0][0]']             \n",
      "                                                                                                  \n",
      " conv2d_119 (Conv2D)            (None, 16, 16, 128)  147584      ['dropout_53[0][0]']             \n",
      "                                                                                                  \n",
      " max_pooling2d_43 (MaxPooling2D  (None, 8, 8, 128)   0           ['conv2d_119[0][0]']             \n",
      " )                                                                                                \n",
      "                                                                                                  \n",
      " conv2d_120 (Conv2D)            (None, 8, 8, 256)    295168      ['max_pooling2d_43[0][0]']       \n",
      "                                                                                                  \n",
      " dropout_54 (Dropout)           (None, 8, 8, 256)    0           ['conv2d_120[0][0]']             \n",
      "                                                                                                  \n",
      " conv2d_121 (Conv2D)            (None, 8, 8, 256)    590080      ['dropout_54[0][0]']             \n",
      "                                                                                                  \n",
      " conv2d_transpose_8 (Conv2DTran  (None, 16, 16, 128)  131200     ['conv2d_121[0][0]']             \n",
      " spose)                                                                                           \n",
      "                                                                                                  \n",
      " concatenate_8 (Concatenate)    (None, 16, 16, 256)  0           ['conv2d_transpose_8[0][0]',     \n",
      "                                                                  'conv2d_119[0][0]']             \n",
      "                                                                                                  \n",
      " conv2d_122 (Conv2D)            (None, 16, 16, 128)  295040      ['concatenate_8[0][0]']          \n",
      "                                                                                                  \n",
      " dropout_55 (Dropout)           (None, 16, 16, 128)  0           ['conv2d_122[0][0]']             \n",
      "                                                                                                  \n",
      " conv2d_123 (Conv2D)            (None, 16, 16, 128)  147584      ['dropout_55[0][0]']             \n",
      "                                                                                                  \n",
      " conv2d_transpose_9 (Conv2DTran  (None, 32, 32, 64)  32832       ['conv2d_123[0][0]']             \n",
      " spose)                                                                                           \n",
      "                                                                                                  \n",
      " concatenate_9 (Concatenate)    (None, 32, 32, 128)  0           ['conv2d_transpose_9[0][0]',     \n",
      "                                                                  'conv2d_117[0][0]']             \n",
      "                                                                                                  \n",
      " conv2d_124 (Conv2D)            (None, 32, 32, 64)   73792       ['concatenate_9[0][0]']          \n",
      "                                                                                                  \n",
      " dropout_56 (Dropout)           (None, 32, 32, 64)   0           ['conv2d_124[0][0]']             \n",
      "                                                                                                  \n",
      " conv2d_125 (Conv2D)            (None, 32, 32, 64)   36928       ['dropout_56[0][0]']             \n",
      "                                                                                                  \n",
      " conv2d_transpose_10 (Conv2DTra  (None, 64, 64, 32)  8224        ['conv2d_125[0][0]']             \n",
      " nspose)                                                                                          \n"
     ]
    },
    {
     "name": "stdout",
     "output_type": "stream",
     "text": [
      "                                                                                                  \n",
      " concatenate_10 (Concatenate)   (None, 64, 64, 64)   0           ['conv2d_transpose_10[0][0]',    \n",
      "                                                                  'conv2d_115[0][0]']             \n",
      "                                                                                                  \n",
      " conv2d_126 (Conv2D)            (None, 64, 64, 32)   18464       ['concatenate_10[0][0]']         \n",
      "                                                                                                  \n",
      " dropout_57 (Dropout)           (None, 64, 64, 32)   0           ['conv2d_126[0][0]']             \n",
      "                                                                                                  \n",
      " conv2d_127 (Conv2D)            (None, 64, 64, 32)   9248        ['dropout_57[0][0]']             \n",
      "                                                                                                  \n",
      " conv2d_transpose_11 (Conv2DTra  (None, 128, 128, 16  2064       ['conv2d_127[0][0]']             \n",
      " nspose)                        )                                                                 \n",
      "                                                                                                  \n",
      " concatenate_11 (Concatenate)   (None, 128, 128, 32  0           ['conv2d_transpose_11[0][0]',    \n",
      "                                )                                 'conv2d_113[0][0]']             \n",
      "                                                                                                  \n",
      " conv2d_128 (Conv2D)            (None, 128, 128, 16  4624        ['concatenate_11[0][0]']         \n",
      "                                )                                                                 \n",
      "                                                                                                  \n",
      " dropout_58 (Dropout)           (None, 128, 128, 16  0           ['conv2d_128[0][0]']             \n",
      "                                )                                                                 \n",
      "                                                                                                  \n",
      " conv2d_129 (Conv2D)            (None, 128, 128, 16  2320        ['dropout_58[0][0]']             \n",
      "                                )                                                                 \n",
      "                                                                                                  \n",
      " conv2d_130 (Conv2D)            (None, 128, 128, 1)  17          ['conv2d_129[0][0]']             \n",
      "                                                                                                  \n",
      "==================================================================================================\n",
      "Total params: 1,941,105\n",
      "Trainable params: 1,941,105\n",
      "Non-trainable params: 0\n",
      "__________________________________________________________________________________________________\n"
     ]
    }
   ],
   "source": [
    "# contraction path\n",
    "conv1 = tf.keras.layers.Conv2D(16, (3,3),activation=\"relu\", kernel_initializer=\"he_normal\", padding=\"same\")(normalizer(norm_input))\n",
    "conv1 = tf.keras.layers.Dropout(0.1)(conv1)\n",
    "conv1 = tf.keras.layers.Conv2D(16, (3,3),activation=\"relu\", kernel_initializer=\"he_normal\", padding=\"same\")(conv1)\n",
    "pool1 = tf.keras.layers.MaxPool2D((2,2))(conv1)\n",
    "\n",
    "conv2 = tf.keras.layers.Conv2D(32, (3,3),activation=\"relu\", kernel_initializer=\"he_normal\", padding=\"same\")(pool1)\n",
    "conv2 = tf.keras.layers.Dropout(0.1)(conv2)\n",
    "conv2 = tf.keras.layers.Conv2D(32, (3,3),activation=\"relu\", kernel_initializer=\"he_normal\", padding=\"same\")(conv2)\n",
    "pool2 = tf.keras.layers.MaxPool2D((2,2))(conv2)\n",
    "\n",
    "conv3 = tf.keras.layers.Conv2D(64, (3,3),activation=\"relu\", kernel_initializer=\"he_normal\", padding=\"same\")(pool2)\n",
    "conv3 = tf.keras.layers.Dropout(0.1)(conv3)\n",
    "conv3 = tf.keras.layers.Conv2D(64, (3,3), activation=\"relu\", kernel_initializer=\"he_normal\", padding=\"same\")(conv3)\n",
    "pool3 = tf.keras.layers.MaxPool2D((2,2))(conv3)\n",
    "\n",
    "conv4 = tf.keras.layers.Conv2D(128, (3,3),activation=\"relu\", kernel_initializer=\"he_normal\", padding=\"same\")(pool3)\n",
    "conv4 = tf.keras.layers.Dropout(0.3)(conv4)\n",
    "conv4 = tf.keras.layers.Conv2D(128, (3,3), activation=\"relu\", kernel_initializer=\"he_normal\", padding=\"same\")(conv4)\n",
    "pool4 = tf.keras.layers.MaxPool2D((2,2))(conv4)\n",
    "\n",
    "conv5 = tf.keras.layers.Conv2D(256, (3,3),activation=\"relu\", kernel_initializer=\"he_normal\", padding=\"same\")(pool4)\n",
    "conv5 = tf.keras.layers.Dropout(0.3)(conv5)\n",
    "conv5 = tf.keras.layers.Conv2D(256, (3,3), activation=\"relu\", kernel_initializer=\"he_normal\", padding=\"same\")(conv5)\n",
    "\n",
    "# Expansive path\n",
    "up6 = tf.keras.layers.Conv2DTranspose(128, (2,2), strides=(2,2), padding=\"same\")(conv5)\n",
    "up6 = tf.keras.layers.concatenate([up6, conv4])\n",
    "conv6 = tf.keras.layers.Conv2D(128, (3,3), activation=\"relu\", kernel_initializer=\"he_normal\", padding=\"same\")(up6)\n",
    "conv6 = tf.keras.layers.Dropout(0.2)(conv6)\n",
    "conv6 = tf.keras.layers.Conv2D(128, (3,3), activation=\"relu\", kernel_initializer=\"he_normal\", padding=\"same\")(conv6)\n",
    "\n",
    "up7 = tf.keras.layers.Conv2DTranspose(64, (2,2), strides=(2,2), padding=\"same\")(conv6)\n",
    "up7 = tf.keras.layers.concatenate([up7, conv3])\n",
    "conv7 = tf.keras.layers.Conv2D(64, (3,3), activation=\"relu\", kernel_initializer=\"he_normal\", padding=\"same\")(up7)\n",
    "conv7 = tf.keras.layers.Dropout(0.1)(conv7)\n",
    "conv7 = tf.keras.layers.Conv2D(64, (3,3), activation=\"relu\", kernel_initializer=\"he_normal\", padding=\"same\")(conv7)\n",
    "\n",
    "up8 = tf.keras.layers.Conv2DTranspose(32, (2,2), strides=(2,2), padding=\"same\")(conv7)\n",
    "up8 = tf.keras.layers.concatenate([up8, conv2])\n",
    "conv8 = tf.keras.layers.Conv2D(32, (3,3), activation=\"relu\", kernel_initializer=\"he_normal\", padding=\"same\")(up8)\n",
    "conv8 = tf.keras.layers.Dropout(0.1)(conv8)\n",
    "conv8 = tf.keras.layers.Conv2D(32, (3,3), activation=\"relu\", kernel_initializer=\"he_normal\", padding=\"same\")(conv8)\n",
    "\n",
    "up9 = tf.keras.layers.Conv2DTranspose(16, (2,2), strides=(2,2), padding=\"same\")(conv8)\n",
    "up9 = tf.keras.layers.concatenate([up9, conv1], axis=3)\n",
    "conv9 = tf.keras.layers.Conv2D(16, (3,3), activation=\"relu\", kernel_initializer=\"he_normal\", padding=\"same\")(up9)\n",
    "conv9 = tf.keras.layers.Dropout(0.1)(conv9)\n",
    "conv9 = tf.keras.layers.Conv2D(16, (3,3), activation=\"relu\", kernel_initializer=\"he_normal\", padding=\"same\")(conv9)\n",
    "\n",
    "\n",
    "\n",
    "outputs = tf.keras.layers.Conv2D(1, (1,1), activation=\"sigmoid\")(conv9)\n",
    "\n",
    "model = tf.keras.Model(inputs=[inputs], outputs=[outputs])\n",
    "\n",
    "model.compile(optimizer=\"adam\",\n",
    "             loss=\"binary_crossentropy\", metrics=[\"accuracy\"])\n",
    "model.summary()\n"
   ]
  },
  {
   "cell_type": "code",
   "execution_count": null,
   "id": "9dbc85c2",
   "metadata": {},
   "outputs": [],
   "source": [
    "# define important callbacks\n",
    "checkpointer = tf.keras.callbacks.ModelCheckpoint(\"model_for_nuclei.h5\", verbose=1, save_best_only=True)\n",
    "\n",
    "callbacks = [\n",
    "    tf.keras.callbacks.EarlyStopping(monitor=\"val_loss\", patience=2, verbose=1),\n",
    "    tf.keras.callbacks.TensorBoard(log_dir=\"logs\")\n",
    "]\n",
    "        \n",
    "#Fit model\n",
    "model.fit(X, Y, batch_size=16, epochs=25, validation_split=0.1 callbacks=callbacks)"
   ]
  },
  {
   "cell_type": "code",
   "execution_count": null,
   "id": "033ed44f",
   "metadata": {},
   "outputs": [],
   "source": []
  }
 ],
 "metadata": {
  "kernelspec": {
   "display_name": "Python 3 (ipykernel)",
   "language": "python",
   "name": "python3"
  },
  "language_info": {
   "codemirror_mode": {
    "name": "ipython",
    "version": 3
   },
   "file_extension": ".py",
   "mimetype": "text/x-python",
   "name": "python",
   "nbconvert_exporter": "python",
   "pygments_lexer": "ipython3",
   "version": "3.9.15"
  }
 },
 "nbformat": 4,
 "nbformat_minor": 5
}
